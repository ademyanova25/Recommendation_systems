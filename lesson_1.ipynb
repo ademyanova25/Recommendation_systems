{
 "cells": [
  {
   "cell_type": "code",
   "execution_count": 127,
   "id": "8cbfd635",
   "metadata": {},
   "outputs": [],
   "source": [
    "import pandas as pd\n",
    "import numpy as np"
   ]
  },
  {
   "cell_type": "code",
   "execution_count": 128,
   "id": "08069af6",
   "metadata": {},
   "outputs": [],
   "source": [
    "# список товаров, которые мы порекомендуем пользователю в заданном порядке\n",
    "recommended_list = [143, 156, 1134, 991, 27, 1543, 3345, 533, 11, 43] #id товаров\n",
    "\n",
    "# юзер 1 купил данные товары\n",
    "bought_list = [521, 32, 143, 991]"
   ]
  },
  {
   "cell_type": "code",
   "execution_count": 129,
   "id": "bc0ce7b6",
   "metadata": {},
   "outputs": [],
   "source": [
    "def hit_rate(recommended_list, bought_list):\n",
    "    bought_list = np.array(bought_list)\n",
    "    recommended_list = np.array(recommended_list)\n",
    "    \n",
    "    flags = np.isin(bought_list, recommended_list)\n",
    "    return (flags.sum() > 0) * 1"
   ]
  },
  {
   "cell_type": "code",
   "execution_count": 130,
   "id": "368424a4",
   "metadata": {},
   "outputs": [],
   "source": [
    "def hit_rate_at_k(recommended_list, bought_list, k=5):\n",
    "    return hit_rate(recommended_list[:k], bought_list)"
   ]
  },
  {
   "cell_type": "code",
   "execution_count": 131,
   "id": "7899a20f",
   "metadata": {},
   "outputs": [
    {
     "data": {
      "text/plain": [
       "1"
      ]
     },
     "execution_count": 131,
     "metadata": {},
     "output_type": "execute_result"
    }
   ],
   "source": [
    "hit_rate_at_k(recommended_list, bought_list)"
   ]
  },
  {
   "cell_type": "code",
   "execution_count": 132,
   "id": "95ed3602",
   "metadata": {},
   "outputs": [],
   "source": [
    "recommended_list = [2, 3, 8, 6, 9, 2, 5, 10] \n",
    "bought_list = [1, 5, 6]\n",
    "prices_recommended = [23, 2233, 534, 56, 1, 75, 394, 1674]\n",
    "prices_bought = [136, 394, 56]"
   ]
  },
  {
   "cell_type": "code",
   "execution_count": 133,
   "id": "bdddcacb",
   "metadata": {},
   "outputs": [],
   "source": [
    "def recall(recommended_list, bought_list):\n",
    "    \n",
    "    bought_list = np.array(bought_list)\n",
    "    recommended_list = np.array(recommended_list)\n",
    "    \n",
    "    flags = np.isin(bought_list, recommended_list)\n",
    "    return flags.sum() / len(bought_list)\n",
    "    \n",
    "\n",
    "def recall_at_k(recommended_list, bought_list, k=5):\n",
    "    return recall(recommended_list[:k], bought_list)\n",
    "\n",
    "\n",
    "def money_recall_at_k(recommended_list, bought_list, prices_recommended, prices_bought, k=5):\n",
    "    bought_list = np.array(bought_list)\n",
    "    recommended_list = np.array(recommended_list)[:k]\n",
    "    prices_recommended = np.array(prices_recommended)[:k]\n",
    "    prices_bought = np.array(prices_bought)\n",
    "    \n",
    "    flags = np.isin(recommended_list, bought_list)\n",
    "           \n",
    "    return np.dot(flags, prices_recommended).sum() / prices_bought.sum()"
   ]
  },
  {
   "cell_type": "code",
   "execution_count": 134,
   "id": "d4d27a06",
   "metadata": {},
   "outputs": [
    {
     "name": "stdout",
     "output_type": "stream",
     "text": [
      "0.333\n"
     ]
    }
   ],
   "source": [
    "print(f'{recall_at_k(recommended_list, bought_list):.3f}')"
   ]
  },
  {
   "cell_type": "code",
   "execution_count": 135,
   "id": "1476b2f4",
   "metadata": {},
   "outputs": [
    {
     "name": "stdout",
     "output_type": "stream",
     "text": [
      "0.096\n"
     ]
    }
   ],
   "source": [
    "print(f'{money_recall_at_k(recommended_list, bought_list, prices_recommended, prices_bought):.3f}')"
   ]
  },
  {
   "cell_type": "code",
   "execution_count": 136,
   "id": "076048c0",
   "metadata": {},
   "outputs": [],
   "source": [
    "# теперь список из 3 пользователей\n",
    "recommended_list_3_users = [[143, 156, 1134, 991, 27, 1543, 3345, 533, 11, 43], \n",
    "                    [1134, 533, 14, 4, 15, 1543, 1, 99, 27, 3345],\n",
    "                    [991, 3345, 27, 533, 43, 143, 1543, 156, 1134, 11]\n",
    "                    ]\n",
    "\n",
    "bought_list_3_users = [[521, 32, 143],  # юзер 1\n",
    "                       [143, 156, 991, 43, 11], # юзер 2\n",
    "                       [1,2]] # юзер 3"
   ]
  },
  {
   "cell_type": "code",
   "execution_count": 137,
   "id": "9044a48d",
   "metadata": {},
   "outputs": [],
   "source": [
    "def precision(recommended_list, bought_list):\n",
    "    \n",
    "    bought_list = np.array(bought_list)\n",
    "    recommended_list = np.array(recommended_list)\n",
    "    \n",
    "    flags = np.isin(bought_list, recommended_list)\n",
    "    return flags.sum() / len(recommended_list)"
   ]
  },
  {
   "cell_type": "code",
   "execution_count": 138,
   "id": "7cab547a",
   "metadata": {},
   "outputs": [],
   "source": [
    "def precision_at_k(recommended_list, bought_list, k=5):\n",
    "    return precision(recommended_list[:k], bought_list)"
   ]
  },
  {
   "cell_type": "code",
   "execution_count": 139,
   "id": "e2f1dcfb",
   "metadata": {},
   "outputs": [],
   "source": [
    "def ap_k(recommended_list, bought_list, k=5):\n",
    "    \n",
    "    bought_list = np.array(bought_list)\n",
    "    recommended_list = np.array(recommended_list)[:k]\n",
    "    \n",
    "    relevant_indexes = np.nonzero(np.isin(recommended_list, bought_list))[0]\n",
    "    if len(relevant_indexes) == 0:\n",
    "        return 0\n",
    "    \n",
    "    amount_relevant = len(relevant_indexes)\n",
    "            \n",
    "    sum_ = sum([precision_at_k(recommended_list, bought_list, k=index_relevant+1) for index_relevant in relevant_indexes])\n",
    "    return sum_/amount_relevant"
   ]
  },
  {
   "cell_type": "code",
   "execution_count": 140,
   "id": "34211691",
   "metadata": {},
   "outputs": [],
   "source": [
    "def map_k(recommended_list, bought_list, k=5):\n",
    "    \n",
    "    result = np.mean([ap_k(recommended_list_3_users[i], bought_list_3_users[i], k) for i in range(len(recommended_list_3_users))])\n",
    "    \n",
    "    return result"
   ]
  },
  {
   "cell_type": "code",
   "execution_count": 141,
   "id": "f060a1c8",
   "metadata": {},
   "outputs": [
    {
     "name": "stdout",
     "output_type": "stream",
     "text": [
      "0.333\n"
     ]
    }
   ],
   "source": [
    "print(f'{map_k(recommended_list, bought_list):.3f}')"
   ]
  },
  {
   "cell_type": "code",
   "execution_count": 142,
   "id": "83b3c580",
   "metadata": {},
   "outputs": [],
   "source": [
    "# по желанию\n",
    "def ndcg_at_k(recommended_list, bought_list, k=5):\n",
    "    \n",
    "    recommended_list = np.array(recommended_list)[:k]\n",
    "    \n",
    "    #dcg\n",
    "    dcg = 0\n",
    "    if recommended_list[0] in bought_list:\n",
    "        dcg = 1\n",
    "    \n",
    "    for i in range(1, len(recommended_list)):\n",
    "        if recommended_list[i] in bought_list:\n",
    "            dcg += 1/np.log(i+1)\n",
    "            \n",
    "    #idcg\n",
    "    idcg = 1\n",
    "    for i in range(1, k):\n",
    "        idcg += 1/np.log(i+1)  \n",
    "    \n",
    "    return dcg / idcg"
   ]
  },
  {
   "cell_type": "code",
   "execution_count": 143,
   "id": "b0eab4b7",
   "metadata": {},
   "outputs": [
    {
     "name": "stdout",
     "output_type": "stream",
     "text": [
      "0.154\n"
     ]
    }
   ],
   "source": [
    "print(f'{ndcg_at_k(recommended_list, bought_list):.3f}')"
   ]
  },
  {
   "cell_type": "code",
   "execution_count": 170,
   "id": "cc74e055",
   "metadata": {},
   "outputs": [],
   "source": [
    "def reciprocal_rank(recommended_list, bought_list, k=5):\n",
    "    recommended_list = recommended_list[:k]\n",
    "    ranks = 0\n",
    "    for i, item_bought in enumerate(recommended_list):\n",
    "        if np.isin(item_bought, bought_list):\n",
    "            ranks = 1 / (i+1)\n",
    "            break\n",
    "        else:\n",
    "            ranks = 0\n",
    "    return ranks"
   ]
  },
  {
   "cell_type": "code",
   "execution_count": 171,
   "id": "a2837cd0",
   "metadata": {},
   "outputs": [
    {
     "data": {
      "text/plain": [
       "0.25"
      ]
     },
     "execution_count": 171,
     "metadata": {},
     "output_type": "execute_result"
    }
   ],
   "source": [
    "reciprocal_rank(recommended_list, bought_list)"
   ]
  },
  {
   "cell_type": "code",
   "execution_count": 174,
   "id": "1d225bde",
   "metadata": {},
   "outputs": [],
   "source": [
    "def mean_reciprocal_rank(recommended_list_3_users, bought_list_3_users, k=5):\n",
    "    \n",
    "    result = np.mean([reciprocal_rank(recommended_list_3_users[i], bought_list_3_users[i], k) for i in range(len(recommended_list_3_users))])\n",
    "    \n",
    "    return result"
   ]
  },
  {
   "cell_type": "code",
   "execution_count": 177,
   "id": "445d2991",
   "metadata": {},
   "outputs": [
    {
     "name": "stdout",
     "output_type": "stream",
     "text": [
      "0.333\n"
     ]
    }
   ],
   "source": [
    "print(f'{mean_reciprocal_rank(recommended_list_3_users, bought_list_3_users):.3f}')"
   ]
  }
 ],
 "metadata": {
  "kernelspec": {
   "display_name": "Python 3",
   "language": "python",
   "name": "python3"
  },
  "language_info": {
   "codemirror_mode": {
    "name": "ipython",
    "version": 3
   },
   "file_extension": ".py",
   "mimetype": "text/x-python",
   "name": "python",
   "nbconvert_exporter": "python",
   "pygments_lexer": "ipython3",
   "version": "3.8.8"
  }
 },
 "nbformat": 4,
 "nbformat_minor": 5
}
