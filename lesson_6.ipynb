{
 "cells": [
  {
   "cell_type": "code",
   "execution_count": 1,
   "id": "5bc57234-b0fb-4189-8e2f-bf059ad9bc46",
   "metadata": {},
   "outputs": [],
   "source": [
    "import pandas as pd\n",
    "import numpy as np\n",
    "import matplotlib.pyplot as plt\n",
    "%matplotlib inline\n",
    "\n",
    "# Для работы с матрицами\n",
    "from scipy.sparse import csr_matrix\n",
    "\n",
    "# Матричная факторизация\n",
    "from implicit import als\n",
    "\n",
    "# Модель второго уровня\n",
    "from lightgbm import LGBMClassifier\n",
    "\n",
    "import os, sys\n",
    "module_path = os.path.abspath(os.path.join(os.pardir))\n",
    "if module_path not in sys.path:\n",
    "    sys.path.append(module_path)\n",
    "\n",
    "# Написанные нами функции\n",
    "from metrics import precision_at_k, recall_at_k\n",
    "from utils import prefilter_items\n",
    "from recommenders import MainRecommender"
   ]
  },
  {
   "cell_type": "code",
   "execution_count": 110,
   "id": "5ce0dc7b-fdb2-4208-b5ba-01aa18436f55",
   "metadata": {},
   "outputs": [
    {
     "name": "stderr",
     "output_type": "stream",
     "text": [
      "C:\\Users\\lufta\\Documents\\utils.py:20: SettingWithCopyWarning: \n",
      "A value is trying to be set on a copy of a slice from a DataFrame.\n",
      "Try using .loc[row_indexer,col_indexer] = value instead\n",
      "\n",
      "See the caveats in the documentation: https://pandas.pydata.org/pandas-docs/stable/user_guide/indexing.html#returning-a-view-versus-a-copy\n",
      "  data['price'] = data['sales_value'] / (np.maximum(data['quantity'], 1))\n"
     ]
    }
   ],
   "source": [
    "data = pd.read_csv('retail_train.csv')\n",
    "item_features = pd.read_csv('product.csv')\n",
    "user_features = pd.read_csv('hh_demographic.csv')\n",
    "\n",
    "ITEM_COL = 'item_id'\n",
    "USER_COL = 'user_id'\n",
    "\n",
    "# column processing\n",
    "item_features.columns = [col.lower() for col in item_features.columns]\n",
    "user_features.columns = [col.lower() for col in user_features.columns]\n",
    "\n",
    "item_features.rename(columns={'product_id': ITEM_COL}, inplace=True)\n",
    "user_features.rename(columns={'household_key': USER_COL }, inplace=True)\n",
    "\n",
    "# Важна схема обучения и валидации!\n",
    "# -- давние покупки -- | -- 6 недель -- | -- 3 недель -- \n",
    "# подобрать размер 2-ого датасета (6 недель) --> learning curve (зависимость метрики recall@k от размера датасета)\n",
    "\n",
    "\n",
    "VAL_MATCHER_WEEKS = 6\n",
    "VAL_RANKER_WEEKS = 3\n",
    "\n",
    "# берем данные для тренировки matching модели\n",
    "data_train_matcher = data[data['week_no'] < data['week_no'].max() - (VAL_MATCHER_WEEKS + VAL_RANKER_WEEKS)]\n",
    "\n",
    "# берем данные для валидации matching модели\n",
    "data_val_matcher = data[(data['week_no'] >= data['week_no'].max() - (VAL_MATCHER_WEEKS + VAL_RANKER_WEEKS)) &\n",
    "                      (data['week_no'] < data['week_no'].max() - (VAL_RANKER_WEEKS))]\n",
    "\n",
    "train_full = data_train_matcher\n",
    "\n",
    "# берем данные для тренировки ranking модели\n",
    "data_train_ranker = data_val_matcher.copy()  # Для наглядности. Далее мы добавим изменения, и они будут отличаться\n",
    "\n",
    "# берем данные для теста ranking, matching модели\n",
    "data_val_ranker = data[data['week_no'] >= data['week_no'].max() - VAL_RANKER_WEEKS]\n",
    "\n",
    "n_items_before = data_train_matcher['item_id'].nunique()\n",
    "\n",
    "data_train_matcher = prefilter_items(data_train_matcher, item_features=item_features, take_n_popular=5000)\n",
    "\n",
    "n_items_after = data_train_matcher['item_id'].nunique()\n",
    "\n",
    "\n",
    "# ищем общих пользователей\n",
    "common_users = data_train_matcher.user_id.values\n",
    "\n",
    "data_val_matcher = data_val_matcher[data_val_matcher.user_id.isin(common_users)]\n",
    "data_train_ranker = data_train_ranker[data_train_ranker.user_id.isin(common_users)]\n",
    "data_val_ranker = data_val_ranker[data_val_ranker.user_id.isin(common_users)]"
   ]
  },
  {
   "cell_type": "code",
   "execution_count": 111,
   "id": "2b74419c-15ee-44be-becc-8b98693cfadb",
   "metadata": {},
   "outputs": [],
   "source": [
    "def print_stats_data(df_data, name_df):\n",
    "    print(name_df)\n",
    "    print(f\"Shape: {df_data.shape} Users: {df_data[USER_COL].nunique()} Items: {df_data[ITEM_COL].nunique()}\")"
   ]
  },
  {
   "cell_type": "code",
   "execution_count": 112,
   "id": "ea27c1ca-3eb0-4dd0-a324-c4fbd2158d2d",
   "metadata": {},
   "outputs": [
    {
     "data": {
      "application/vnd.jupyter.widget-view+json": {
       "model_id": "b179e995f11f4c76abcadb4b9792dd93",
       "version_major": 2,
       "version_minor": 0
      },
      "text/plain": [
       "  0%|          | 0/15 [00:00<?, ?it/s]"
      ]
     },
     "metadata": {},
     "output_type": "display_data"
    },
    {
     "data": {
      "application/vnd.jupyter.widget-view+json": {
       "model_id": "574a5eaa802e465cad72ad806f9079cb",
       "version_major": 2,
       "version_minor": 0
      },
      "text/plain": [
       "  0%|          | 0/5001 [00:00<?, ?it/s]"
      ]
     },
     "metadata": {},
     "output_type": "display_data"
    }
   ],
   "source": [
    "recommender = MainRecommender(data_train_matcher)"
   ]
  },
  {
   "cell_type": "code",
   "execution_count": 113,
   "id": "c5a381ae-cb8c-4d6b-9bc8-6a7dc48cce59",
   "metadata": {},
   "outputs": [],
   "source": [
    "ACTUAL_COL = 'actual'"
   ]
  },
  {
   "cell_type": "code",
   "execution_count": 114,
   "id": "56605f94-9353-4eb2-afab-9de583261be3",
   "metadata": {},
   "outputs": [
    {
     "data": {
      "text/html": [
       "<div>\n",
       "<style scoped>\n",
       "    .dataframe tbody tr th:only-of-type {\n",
       "        vertical-align: middle;\n",
       "    }\n",
       "\n",
       "    .dataframe tbody tr th {\n",
       "        vertical-align: top;\n",
       "    }\n",
       "\n",
       "    .dataframe thead th {\n",
       "        text-align: right;\n",
       "    }\n",
       "</style>\n",
       "<table border=\"1\" class=\"dataframe\">\n",
       "  <thead>\n",
       "    <tr style=\"text-align: right;\">\n",
       "      <th></th>\n",
       "      <th>user_id</th>\n",
       "      <th>actual</th>\n",
       "    </tr>\n",
       "  </thead>\n",
       "  <tbody>\n",
       "    <tr>\n",
       "      <th>0</th>\n",
       "      <td>1</td>\n",
       "      <td>[853529, 865456, 867607, 872137, 874905, 87524...</td>\n",
       "    </tr>\n",
       "    <tr>\n",
       "      <th>1</th>\n",
       "      <td>2</td>\n",
       "      <td>[15830248, 838136, 839656, 861272, 866211, 870...</td>\n",
       "    </tr>\n",
       "  </tbody>\n",
       "</table>\n",
       "</div>"
      ],
      "text/plain": [
       "   user_id                                             actual\n",
       "0        1  [853529, 865456, 867607, 872137, 874905, 87524...\n",
       "1        2  [15830248, 838136, 839656, 861272, 866211, 870..."
      ]
     },
     "execution_count": 114,
     "metadata": {},
     "output_type": "execute_result"
    }
   ],
   "source": [
    "result_eval_matcher = data_val_matcher.groupby(USER_COL)[ITEM_COL].unique().reset_index()\n",
    "result_eval_matcher.columns=[USER_COL, ACTUAL_COL]\n",
    "result_eval_matcher.head(2)"
   ]
  },
  {
   "cell_type": "code",
   "execution_count": 115,
   "id": "19297c6a-fa3f-4670-a7f6-d4010d5b58cc",
   "metadata": {},
   "outputs": [],
   "source": [
    "# N = Neighbors\n",
    "N_PREDICT = 50 "
   ]
  },
  {
   "cell_type": "code",
   "execution_count": 116,
   "id": "84c3e4dc-403c-424d-b70c-54c2160afeab",
   "metadata": {},
   "outputs": [],
   "source": [
    "# # сырой и простой пример как можно обернуть в функцию\n",
    "def evalRecall(df_result, target_col_name, recommend_model, N_PREDICT, col_name):\n",
    "    result_col_name = col_name\n",
    "    df_result[result_col_name] = df_result[target_col_name].apply(lambda x: recommend_model(x, N=N_PREDICT))\n",
    "    return col_name, df_result.apply(lambda row: recall_at_k(row[result_col_name], row[ACTUAL_COL], k=N_PREDICT), axis=1).mean()"
   ]
  },
  {
   "cell_type": "code",
   "execution_count": 117,
   "id": "ff4cc15d-9b73-41b7-bf8c-32ac27fc22ee",
   "metadata": {},
   "outputs": [],
   "source": [
    "def calc_recall(df_data, top_k):\n",
    "    for col_name in df_data.columns[2:]:\n",
    "        yield col_name, df_data.apply(lambda row: recall_at_k(row[col_name], row[ACTUAL_COL], k=top_k), axis=1).mean()"
   ]
  },
  {
   "cell_type": "code",
   "execution_count": 118,
   "id": "df319487-c849-434c-bfcb-b3d0d5f747db",
   "metadata": {},
   "outputs": [],
   "source": [
    "def calc_precision(df_data, top_k):\n",
    "    for col_name in df_data.columns[2:]:\n",
    "        yield col_name, df_data.apply(lambda row: precision_at_k(row[col_name], row[ACTUAL_COL], k=top_k), axis=1).mean()"
   ]
  },
  {
   "cell_type": "markdown",
   "id": "e50d1f7e-5ffb-4922-8612-757294b3d8f3",
   "metadata": {},
   "source": [
    "**Задание 1.**\n",
    "\n",
    "A) Попробуйте различные варианты генерации кандидатов. Какие из них дают наибольший recall@k ?\n",
    "- Пока пробуем отобрать 50 кандидатов (k=50)\n",
    "- Качество измеряем на data_val_matcher: следующие 6 недель после трейна\n",
    "\n",
    "Дают ли own recommendtions + top-popular лучший recall?  \n",
    "\n",
    "B)* Как зависит recall@k от k? Постройте для одной схемы генерации кандидатов эту зависимость для k = {20, 50, 100, 200, 500}  \n",
    "C)* Исходя из прошлого вопроса, как вы думаете, какое значение k является наиболее разумным?\n"
   ]
  },
  {
   "cell_type": "code",
   "execution_count": 119,
   "id": "4470e998-2c4c-4ad5-bc02-4c9dfd69cb28",
   "metadata": {},
   "outputs": [],
   "source": [
    "def topRecall(df_result, target_col_name, N_PREDICT):\n",
    "    overall_top_purchases = recommender.overall_top_purchases[:N_PREDICT]\n",
    "    col_name = 'top'\n",
    "    df_result['top'] = df_result[USER_COL].apply(lambda x: overall_top_purchases)\n",
    "    return col_name, df_result.apply(lambda row: recall_at_k(row['top'], row[ACTUAL_COL], k=N_PREDICT), axis=1).mean() "
   ]
  },
  {
   "cell_type": "code",
   "execution_count": 120,
   "id": "c50de97e-1f51-45b4-8ef1-a761aee0a30d",
   "metadata": {},
   "outputs": [],
   "source": [
    "def recommend(n):\n",
    "    recall_top = topRecall(result_eval_matcher, USER_COL, n)\n",
    "    recall_als = evalRecall(result_eval_matcher, USER_COL, recommender.get_als_recommendations, n, 'als')\n",
    "    recall_own = evalRecall(result_eval_matcher, USER_COL, recommender.get_own_recommendations, n, 'own')\n",
    "    recall_sim = evalRecall(result_eval_matcher, USER_COL, recommender.get_similar_items_recommendation, n, 'sim')\n",
    "    rec = [recall_top, recall_als, recall_own, recall_sim]\n",
    "    return rec"
   ]
  },
  {
   "cell_type": "code",
   "execution_count": 121,
   "id": "08014402-ef5c-4533-bce8-ad634d641a35",
   "metadata": {},
   "outputs": [
    {
     "data": {
      "text/plain": [
       "[('top', 0.04323684353105271),\n",
       " ('als', 0.048058625668721815),\n",
       " ('own', 0.06525657038145175),\n",
       " ('sim', 0.033572621756695266)]"
      ]
     },
     "execution_count": 121,
     "metadata": {},
     "output_type": "execute_result"
    }
   ],
   "source": [
    "recommend(50)"
   ]
  },
  {
   "cell_type": "markdown",
   "id": "a72b43b0-1204-4cd3-b134-220b9de2a02e",
   "metadata": {},
   "source": [
    "**Как видно, recommendtions + top-popular показывают лучший recall, чем просто top-popular.**"
   ]
  },
  {
   "cell_type": "code",
   "execution_count": 122,
   "id": "eaf2b14d-fd52-4fb5-89c5-e61d51756d6c",
   "metadata": {},
   "outputs": [],
   "source": [
    "def selection(n_list):\n",
    "    selection_df = pd.DataFrame()\n",
    "    for n in n_list:\n",
    "        recall = evalRecall(result_eval_matcher, USER_COL, recommender.get_own_recommendations, n, 'recall')\n",
    "        selection_df = selection_df.append(pd.DataFrame([recall[1]], columns=['recall'], index=[n]))\n",
    "    return selection_df"
   ]
  },
  {
   "cell_type": "code",
   "execution_count": 123,
   "id": "95acdcf3-ff68-4cbe-859d-45fcc6cd6031",
   "metadata": {},
   "outputs": [],
   "source": [
    "n_list = [10, 20, 50, 100, 200, 250, 300, 400, 500]"
   ]
  },
  {
   "cell_type": "code",
   "execution_count": 124,
   "id": "13d798f1-61a6-4549-a260-b12dfa9f84d9",
   "metadata": {},
   "outputs": [],
   "source": [
    "selection_df = selection(n_list)"
   ]
  },
  {
   "cell_type": "code",
   "execution_count": 125,
   "id": "09359a8a-9786-4ed7-a8ee-86ea3e440e52",
   "metadata": {},
   "outputs": [],
   "source": [
    "selection_df['growth'] = (selection_df['recall'] - selection_df['recall'].shift(1)).fillna(0)"
   ]
  },
  {
   "cell_type": "code",
   "execution_count": 126,
   "id": "c4bddfd6-60fe-4893-b979-d7735a58c240",
   "metadata": {},
   "outputs": [],
   "source": [
    "selection_df['growth_%'] = ((selection_df['recall'] / selection_df['recall'].shift(1))-1).fillna(0)"
   ]
  },
  {
   "cell_type": "code",
   "execution_count": 127,
   "id": "4cb2c83b-e755-4f1a-ab78-c0bef2d2cbc6",
   "metadata": {},
   "outputs": [
    {
     "data": {
      "text/html": [
       "<div>\n",
       "<style scoped>\n",
       "    .dataframe tbody tr th:only-of-type {\n",
       "        vertical-align: middle;\n",
       "    }\n",
       "\n",
       "    .dataframe tbody tr th {\n",
       "        vertical-align: top;\n",
       "    }\n",
       "\n",
       "    .dataframe thead th {\n",
       "        text-align: right;\n",
       "    }\n",
       "</style>\n",
       "<table border=\"1\" class=\"dataframe\">\n",
       "  <thead>\n",
       "    <tr style=\"text-align: right;\">\n",
       "      <th></th>\n",
       "      <th>recall</th>\n",
       "      <th>growth</th>\n",
       "      <th>growth_%</th>\n",
       "    </tr>\n",
       "  </thead>\n",
       "  <tbody>\n",
       "    <tr>\n",
       "      <th>10</th>\n",
       "      <td>0.026872</td>\n",
       "      <td>0.000000</td>\n",
       "      <td>0.000000</td>\n",
       "    </tr>\n",
       "    <tr>\n",
       "      <th>20</th>\n",
       "      <td>0.039284</td>\n",
       "      <td>0.012412</td>\n",
       "      <td>0.461906</td>\n",
       "    </tr>\n",
       "    <tr>\n",
       "      <th>50</th>\n",
       "      <td>0.065257</td>\n",
       "      <td>0.025972</td>\n",
       "      <td>0.661137</td>\n",
       "    </tr>\n",
       "    <tr>\n",
       "      <th>100</th>\n",
       "      <td>0.096045</td>\n",
       "      <td>0.030788</td>\n",
       "      <td>0.471805</td>\n",
       "    </tr>\n",
       "    <tr>\n",
       "      <th>200</th>\n",
       "      <td>0.135373</td>\n",
       "      <td>0.039328</td>\n",
       "      <td>0.409474</td>\n",
       "    </tr>\n",
       "    <tr>\n",
       "      <th>250</th>\n",
       "      <td>0.147945</td>\n",
       "      <td>0.012572</td>\n",
       "      <td>0.092871</td>\n",
       "    </tr>\n",
       "    <tr>\n",
       "      <th>300</th>\n",
       "      <td>0.157184</td>\n",
       "      <td>0.009239</td>\n",
       "      <td>0.062450</td>\n",
       "    </tr>\n",
       "    <tr>\n",
       "      <th>400</th>\n",
       "      <td>0.171806</td>\n",
       "      <td>0.014622</td>\n",
       "      <td>0.093022</td>\n",
       "    </tr>\n",
       "    <tr>\n",
       "      <th>500</th>\n",
       "      <td>0.182053</td>\n",
       "      <td>0.010247</td>\n",
       "      <td>0.059645</td>\n",
       "    </tr>\n",
       "  </tbody>\n",
       "</table>\n",
       "</div>"
      ],
      "text/plain": [
       "       recall    growth  growth_%\n",
       "10   0.026872  0.000000  0.000000\n",
       "20   0.039284  0.012412  0.461906\n",
       "50   0.065257  0.025972  0.661137\n",
       "100  0.096045  0.030788  0.471805\n",
       "200  0.135373  0.039328  0.409474\n",
       "250  0.147945  0.012572  0.092871\n",
       "300  0.157184  0.009239  0.062450\n",
       "400  0.171806  0.014622  0.093022\n",
       "500  0.182053  0.010247  0.059645"
      ]
     },
     "execution_count": 127,
     "metadata": {},
     "output_type": "execute_result"
    }
   ],
   "source": [
    "selection_df"
   ]
  },
  {
   "cell_type": "code",
   "execution_count": 128,
   "id": "b24a0d8a-98f8-4d28-8bfe-1904c1d6bab2",
   "metadata": {},
   "outputs": [
    {
     "data": {
      "text/plain": [
       "<AxesSubplot:>"
      ]
     },
     "execution_count": 128,
     "metadata": {},
     "output_type": "execute_result"
    },
    {
     "data": {
      "image/png": "[encoded data removed]",
      "text/plain": [
       "<Figure size 432x288 with 1 Axes>"
      ]
     },
     "metadata": {
      "needs_background": "light"
     },
     "output_type": "display_data"
    }
   ],
   "source": [
    "selection_df.plot()"
   ]
  },
  {
   "cell_type": "markdown",
   "id": "eecfca89-65b4-4e61-8f58-51efa8575aff",
   "metadata": {},
   "source": [
    "**В целом с увеличением k увеличивается и recall, что логично.**\n",
    "\n",
    "**Думаю, что для обычной ситуации лучше использовать минимальное кол-во рекомендаций (для пользователя магазина и т.д.). хотя, например, если это рекомендации для организаций, то можно использовать большее кол-во. Опитамально до 200, т.к. после 200 прирост увеличения recall сильно снижается**"
   ]
  },
  {
   "cell_type": "markdown",
   "id": "1cfc2a57-ba00-4f5b-9615-dce821e32d0f",
   "metadata": {},
   "source": [
    "**Задание 2.**\n",
    "\n",
    "Обучите модель 2-ого уровня, при этом:\n",
    "\n",
    "- Добавьте минимум по 2 фичи для юзера, товара и пары юзер-товар\n",
    "\n",
    "- Измерьте отдельно precision@5 модели 1-ого уровня и двухуровневой модели на data_val_ranker\n",
    "\n",
    "- Вырос ли precision@5 при использовании двухуровневой модели?"
   ]
  },
  {
   "cell_type": "code",
   "execution_count": 148,
   "id": "9bcfacdc-eb31-4282-82c5-401fc7081ae5",
   "metadata": {},
   "outputs": [],
   "source": [
    "def new_features(data, user_features, item_features):\n",
    "    \n",
    "    #for user\n",
    "    average_data = data[['user_id', 'basket_id', 'sales_value']].copy()\n",
    "    average_check = average_data.groupby('basket_id').agg('mean').groupby('user_id',as_index=False).agg('mean').rename(columns={'sales_value': 'average_check'})\n",
    "    user_features['average_check'] = user_features['user_id'].map(dict(average_check.values))\n",
    "    \n",
    "    #for item\n",
    "    price_data = data[['item_id', 'quantity', 'sales_value']].copy()\n",
    "    item_price = price_data.groupby('item_id', as_index=False).agg('sum')\n",
    "    item_price['item_price'] = item_price['sales_value'] / item_price['quantity']\n",
    "    item_price = item_price[['item_id', 'item_price']]\n",
    "    item_features['item_price'] = item_features['item_id'].map(dict(item_price.values)).fillna(0)\n",
    "    \n",
    "    return user_features, item_features"
   ]
  },
  {
   "cell_type": "code",
   "execution_count": 149,
   "id": "acd450cd-e5d6-48f3-8786-c07cffb78114",
   "metadata": {},
   "outputs": [],
   "source": [
    "user_features, item_features = new_features(data, user_features, item_features)"
   ]
  },
  {
   "cell_type": "code",
   "execution_count": 150,
   "id": "a8cf4f07-ca8a-43d7-9a6b-2f7ecf03de6a",
   "metadata": {},
   "outputs": [],
   "source": [
    "def train_test_preprocessing(data):    \n",
    "    \n",
    "    df_match_candidates = pd.DataFrame(data_train_ranker[USER_COL].unique())\n",
    "    df_match_candidates.columns = [USER_COL]\n",
    "    \n",
    "    df_match_candidates['candidates'] = df_match_candidates[USER_COL].apply(lambda x: recommender.get_own_recommendations(x, N=50))\n",
    "    \n",
    "    df_items = df_match_candidates.apply(lambda x: pd.Series(x['candidates']), axis=1).stack().reset_index(level=1, drop=True)\n",
    "    df_items.name = 'item_id'\n",
    "    \n",
    "    df_match_candidates = df_match_candidates.drop('candidates', axis=1).join(df_items)\n",
    "    \n",
    "    df_ranker_train = data_train_ranker[[USER_COL, ITEM_COL]].copy()\n",
    "    df_ranker_train['target'] = 1  # тут только покупки \n",
    "    \n",
    "    \n",
    "    df_ranker_train = df_match_candidates.merge(df_ranker_train, on=[USER_COL, ITEM_COL], how='left')\n",
    "\n",
    "    # чистим дубликаты\n",
    "    df_ranker_train = df_ranker_train.drop_duplicates(subset=[USER_COL, ITEM_COL])\n",
    "\n",
    "    df_ranker_train['target'].fillna(0, inplace= True)\n",
    "    \n",
    "    df_ranker_train = df_ranker_train.merge(item_features, on='item_id', how='left')\n",
    "    df_ranker_train = df_ranker_train.drop_duplicates()\n",
    "    df_ranker_train = df_ranker_train.merge(user_features, on='user_id', how='left')\n",
    "    df_ranker_train = df_ranker_train.drop_duplicates()\n",
    "    df_ranker_train = df_ranker_train.fillna(0)\n",
    "    \n",
    "    X_train = df_ranker_train.drop('target', axis=1)\n",
    "    y_train = df_ranker_train[['target']]\n",
    "\n",
    "    return df_ranker_train, X_train, y_train"
   ]
  },
  {
   "cell_type": "code",
   "execution_count": 151,
   "id": "bd574e40-ff29-4e4a-8b14-e0d2943026e1",
   "metadata": {},
   "outputs": [],
   "source": [
    "df_ranker_train, X_train, y_train = train_test_preprocessing(data_train_matcher)"
   ]
  },
  {
   "cell_type": "code",
   "execution_count": 152,
   "id": "76e1e614-5e42-4c09-8fa1-65fb1fc9884e",
   "metadata": {},
   "outputs": [],
   "source": [
    "cat_feats = X_train.columns[2:].tolist()"
   ]
  },
  {
   "cell_type": "code",
   "execution_count": 153,
   "id": "485c5ddb-4850-4738-92a3-a02547473edf",
   "metadata": {},
   "outputs": [],
   "source": [
    "X_train[cat_feats] = X_train[cat_feats].astype('category')"
   ]
  },
  {
   "cell_type": "code",
   "execution_count": 154,
   "id": "6bb110ac-5c91-4ec4-a612-85138529b693",
   "metadata": {},
   "outputs": [
    {
     "name": "stderr",
     "output_type": "stream",
     "text": [
      "G:\\Anaconda\\lib\\site-packages\\sklearn\\utils\\validation.py:63: DataConversionWarning: A column-vector y was passed when a 1d array was expected. Please change the shape of y to (n_samples, ), for example using ravel().\n",
      "  return f(*args, **kwargs)\n",
      "G:\\Anaconda\\lib\\site-packages\\lightgbm\\basic.py:1513: UserWarning: categorical_column in param dict is overridden.\n",
      "  _log_warning(f'{cat_alias} in param dict is overridden.')\n"
     ]
    }
   ],
   "source": [
    "lgb = LGBMClassifier(objective='binary',\n",
    "                     max_depth=8,\n",
    "                     n_estimators=300,\n",
    "                     learning_rate=0.05,\n",
    "                     categorical_column=cat_feats,\n",
    "                     n_jobs=-1,\n",
    "#                      verbose=0\n",
    "                   )\n",
    "\n",
    "lgb.fit(X_train, y_train)\n",
    "\n",
    "train_preds = lgb.predict_proba(X_train)"
   ]
  },
  {
   "cell_type": "code",
   "execution_count": 155,
   "id": "a9a979b0-6960-4868-be6d-03846b29f17d",
   "metadata": {},
   "outputs": [
    {
     "data": {
      "text/plain": [
       "array([[0.97731573, 0.02268427],\n",
       "       [0.99005756, 0.00994244],\n",
       "       [0.97980509, 0.02019491],\n",
       "       ...,\n",
       "       [0.98291633, 0.01708367],\n",
       "       [0.87034741, 0.12965259],\n",
       "       [0.94652694, 0.05347306]])"
      ]
     },
     "execution_count": 155,
     "metadata": {},
     "output_type": "execute_result"
    }
   ],
   "source": [
    "train_preds"
   ]
  },
  {
   "cell_type": "code",
   "execution_count": 156,
   "id": "a9ca0c00-b401-4adb-85ca-aba6cb0c5505",
   "metadata": {},
   "outputs": [],
   "source": [
    "df_ranker_predict = df_ranker_train.copy()"
   ]
  },
  {
   "cell_type": "code",
   "execution_count": 157,
   "id": "6c409c02-6265-4039-acce-0359eb103f9b",
   "metadata": {},
   "outputs": [],
   "source": [
    "df_ranker_predict['proba_item_purchase'] = train_preds[:,1]"
   ]
  },
  {
   "cell_type": "code",
   "execution_count": 158,
   "id": "0c269d37-4bea-456f-b242-b798d0e87656",
   "metadata": {},
   "outputs": [
    {
     "data": {
      "text/plain": [
       "0    0.022684\n",
       "1    0.009942\n",
       "2    0.020195\n",
       "3    0.000851\n",
       "4    0.206912\n",
       "5    0.031489\n",
       "6    0.010122\n",
       "7    0.001827\n",
       "8    0.036338\n",
       "9    0.386071\n",
       "Name: proba_item_purchase, dtype: float64"
      ]
     },
     "execution_count": 158,
     "metadata": {},
     "output_type": "execute_result"
    }
   ],
   "source": [
    "df_ranker_predict['proba_item_purchase'][:10]"
   ]
  },
  {
   "cell_type": "code",
   "execution_count": 159,
   "id": "0fb3ae0d-7b85-4f00-814d-3f3c08ee1b41",
   "metadata": {},
   "outputs": [
    {
     "data": {
      "text/html": [
       "<div>\n",
       "<style scoped>\n",
       "    .dataframe tbody tr th:only-of-type {\n",
       "        vertical-align: middle;\n",
       "    }\n",
       "\n",
       "    .dataframe tbody tr th {\n",
       "        vertical-align: top;\n",
       "    }\n",
       "\n",
       "    .dataframe thead th {\n",
       "        text-align: right;\n",
       "    }\n",
       "</style>\n",
       "<table border=\"1\" class=\"dataframe\">\n",
       "  <thead>\n",
       "    <tr style=\"text-align: right;\">\n",
       "      <th></th>\n",
       "      <th>user_id</th>\n",
       "      <th>actual</th>\n",
       "    </tr>\n",
       "  </thead>\n",
       "  <tbody>\n",
       "    <tr>\n",
       "      <th>0</th>\n",
       "      <td>1</td>\n",
       "      <td>[821867, 834484, 856942, 865456, 889248, 90795...</td>\n",
       "    </tr>\n",
       "    <tr>\n",
       "      <th>1</th>\n",
       "      <td>3</td>\n",
       "      <td>[835476, 851057, 872021, 878302, 879948, 90963...</td>\n",
       "    </tr>\n",
       "  </tbody>\n",
       "</table>\n",
       "</div>"
      ],
      "text/plain": [
       "   user_id                                             actual\n",
       "0        1  [821867, 834484, 856942, 865456, 889248, 90795...\n",
       "1        3  [835476, 851057, 872021, 878302, 879948, 90963..."
      ]
     },
     "execution_count": 159,
     "metadata": {},
     "output_type": "execute_result"
    }
   ],
   "source": [
    "result_eval_ranker = data_val_ranker.groupby(USER_COL)[ITEM_COL].unique().reset_index()\n",
    "result_eval_ranker.columns=[USER_COL, ACTUAL_COL]\n",
    "result_eval_ranker.head(2)"
   ]
  },
  {
   "cell_type": "code",
   "execution_count": 160,
   "id": "e88eefd4-b792-4032-b452-cbfb1b5b4d27",
   "metadata": {},
   "outputs": [
    {
     "name": "stdout",
     "output_type": "stream",
     "text": [
      "Wall time: 7.87 s\n"
     ]
    }
   ],
   "source": [
    "%%time\n",
    "result_eval_ranker['own_rec'] = result_eval_ranker[USER_COL].apply(lambda x: recommender.get_own_recommendations(x, N=N_PREDICT))"
   ]
  },
  {
   "cell_type": "code",
   "execution_count": 161,
   "id": "22fbcbcf-16e4-484f-9b73-16f62408bed6",
   "metadata": {},
   "outputs": [
    {
     "data": {
      "text/plain": [
       "[('own_rec', 0.1444117647058813)]"
      ]
     },
     "execution_count": 161,
     "metadata": {},
     "output_type": "execute_result"
    }
   ],
   "source": [
    "# померяем precision только модели матчинга, чтобы понимать влияение ранжирования на метрики\n",
    "\n",
    "sorted(calc_precision(result_eval_ranker, 5), key=lambda x: x[1], reverse=True)"
   ]
  },
  {
   "cell_type": "code",
   "execution_count": 162,
   "id": "2148fce4-11a5-4813-ab3b-927ec6c47d8f",
   "metadata": {},
   "outputs": [],
   "source": [
    "def rerank(user_id):\n",
    "    return df_ranker_predict[df_ranker_predict[USER_COL]==user_id].sort_values('proba_item_purchase', ascending=False).head(5).item_id.tolist()"
   ]
  },
  {
   "cell_type": "code",
   "execution_count": 163,
   "id": "112913f5-0462-44d0-9a3b-5e366dbf1e59",
   "metadata": {},
   "outputs": [],
   "source": [
    "result_eval_ranker['reranked_own_rec'] = result_eval_ranker[USER_COL].apply(lambda user_id: rerank(user_id))"
   ]
  },
  {
   "cell_type": "code",
   "execution_count": 164,
   "id": "f0a720cf-cc5a-4a78-b1b1-eb888a259614",
   "metadata": {},
   "outputs": [
    {
     "name": "stdout",
     "output_type": "stream",
     "text": [
      "('reranked_own_rec', 0.161044386422975)\n",
      "('own_rec', 0.1444117647058813)\n"
     ]
    },
    {
     "name": "stderr",
     "output_type": "stream",
     "text": [
      "C:\\Users\\lufta\\Documents\\metrics.py:20: RuntimeWarning: invalid value encountered in long_scalars\n",
      "  return flags.sum() / len(recommended_list)\n"
     ]
    }
   ],
   "source": [
    "print(*sorted(calc_precision(result_eval_ranker, 5), key=lambda x: x[1], reverse=True), sep='\\n')"
   ]
  }
 ],
 "metadata": {
  "kernelspec": {
   "display_name": "Python 3",
   "language": "python",
   "name": "python3"
  },
  "language_info": {
   "codemirror_mode": {
    "name": "ipython",
    "version": 3
   },
   "file_extension": ".py",
   "mimetype": "text/x-python",
   "name": "python",
   "nbconvert_exporter": "python",
   "pygments_lexer": "ipython3",
   "version": "3.8.8"
  }
 },
 "nbformat": 4,
 "nbformat_minor": 5
}
