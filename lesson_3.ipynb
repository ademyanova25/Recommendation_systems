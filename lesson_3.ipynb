{
 "cells": [
  {
   "cell_type": "markdown",
   "id": "e8e6866c",
   "metadata": {},
   "source": [
    "### Попытаться ответить на вопросы/выдвинуть гипотезы"
   ]
  },
  {
   "cell_type": "markdown",
   "id": "7c075edb",
   "metadata": {},
   "source": [
    "##### 3 товара с акцией (Как это учесть? А если на товар была акция 10%, а потом 50%, что будет стоять в user-item матрице?)\n"
   ]
  },
  {
   "cell_type": "markdown",
   "id": "dccec6ae",
   "metadata": {},
   "source": [
    "фильтрация по товарам на которые есть скидки. думаю надо использовать актуальную скидку, хотя в процессе тестирования рек. системы лучше зафиксировать скидки номенклатруно."
   ]
  },
  {
   "cell_type": "markdown",
   "id": "08fb1e81",
   "metadata": {},
   "source": [
    "##### 1 новый товар (юзер никогда не покупал. Просто фильтруем аутпут ALS? А если у таких товаров очень маленькая вероятность покупки? Может, использовать другую логику/модель?)\n"
   ]
  },
  {
   "cell_type": "markdown",
   "id": "414e9e2b",
   "metadata": {},
   "source": [
    "если юзер вообще не покупал никаких товаров можно показывать новый товар из наиболее популярный категорий"
   ]
  },
  {
   "cell_type": "markdown",
   "id": "55395d0f",
   "metadata": {},
   "source": [
    "##### 1 товар для роста среднего чека (товары минимум дороже чем обычно покупает юзер. Как это измерить? На сколько дороже?)"
   ]
  },
  {
   "cell_type": "markdown",
   "id": "151293ce",
   "metadata": {},
   "source": [
    "найти наиболее часто покупаемые товары юзером и предложить схожие, но немного дороже. полагаю, что лучше показыват товары дороже на 10-20%, т.к. это будет не так ощутимо финансово. мб увеличнеие прайса в 2 раза отпугнуть от покупки."
   ]
  },
  {
   "cell_type": "markdown",
   "id": "1feab466",
   "metadata": {},
   "source": [
    "### Поэкспериментировать с ALS (grid-search)"
   ]
  },
  {
   "cell_type": "code",
   "execution_count": 1172,
   "id": "79ed4175",
   "metadata": {},
   "outputs": [],
   "source": [
    "import pandas as pd\n",
    "import numpy as np\n",
    "import matplotlib.pyplot as plt\n",
    "%matplotlib inline\n",
    "\n",
    "# Для работы с матрицами\n",
    "from scipy.sparse import csr_matrix\n",
    "\n",
    "# Матричная факторизация\n",
    "from implicit.als import AlternatingLeastSquares\n",
    "from implicit.nearest_neighbours import bm25_weight, tfidf_weight\n",
    "\n",
    "# Функции из 1-ого вебинара\n",
    "import os, sys\n",
    "\n",
    "module_path = os.path.abspath(os.path.join(os.pardir))\n",
    "if module_path not in sys.path:\n",
    "    sys.path.append(module_path)\n",
    "    \n",
    "import metrics\n",
    "\n",
    "from implicit.evaluation import train_test_split\n",
    "from implicit.evaluation import precision_at_k, mean_average_precision_at_k, AUC_at_k, ndcg_at_k"
   ]
  },
  {
   "cell_type": "code",
   "execution_count": 1194,
   "id": "d1152147",
   "metadata": {},
   "outputs": [
    {
     "data": {
      "text/html": [
       "<div>\n",
       "<style scoped>\n",
       "    .dataframe tbody tr th:only-of-type {\n",
       "        vertical-align: middle;\n",
       "    }\n",
       "\n",
       "    .dataframe tbody tr th {\n",
       "        vertical-align: top;\n",
       "    }\n",
       "\n",
       "    .dataframe thead th {\n",
       "        text-align: right;\n",
       "    }\n",
       "</style>\n",
       "<table border=\"1\" class=\"dataframe\">\n",
       "  <thead>\n",
       "    <tr style=\"text-align: right;\">\n",
       "      <th></th>\n",
       "      <th>user_id</th>\n",
       "      <th>basket_id</th>\n",
       "      <th>day</th>\n",
       "      <th>item_id</th>\n",
       "      <th>quantity</th>\n",
       "      <th>sales_value</th>\n",
       "      <th>store_id</th>\n",
       "      <th>retail_disc</th>\n",
       "      <th>trans_time</th>\n",
       "      <th>week_no</th>\n",
       "      <th>coupon_disc</th>\n",
       "      <th>coupon_match_disc</th>\n",
       "    </tr>\n",
       "  </thead>\n",
       "  <tbody>\n",
       "    <tr>\n",
       "      <th>0</th>\n",
       "      <td>2375</td>\n",
       "      <td>26984851472</td>\n",
       "      <td>1</td>\n",
       "      <td>1004906</td>\n",
       "      <td>1</td>\n",
       "      <td>1.39</td>\n",
       "      <td>364</td>\n",
       "      <td>-0.60</td>\n",
       "      <td>1631</td>\n",
       "      <td>1</td>\n",
       "      <td>0.0</td>\n",
       "      <td>0.0</td>\n",
       "    </tr>\n",
       "    <tr>\n",
       "      <th>1</th>\n",
       "      <td>2375</td>\n",
       "      <td>26984851472</td>\n",
       "      <td>1</td>\n",
       "      <td>1033142</td>\n",
       "      <td>1</td>\n",
       "      <td>0.82</td>\n",
       "      <td>364</td>\n",
       "      <td>0.00</td>\n",
       "      <td>1631</td>\n",
       "      <td>1</td>\n",
       "      <td>0.0</td>\n",
       "      <td>0.0</td>\n",
       "    </tr>\n",
       "    <tr>\n",
       "      <th>2</th>\n",
       "      <td>2375</td>\n",
       "      <td>26984851472</td>\n",
       "      <td>1</td>\n",
       "      <td>1036325</td>\n",
       "      <td>1</td>\n",
       "      <td>0.99</td>\n",
       "      <td>364</td>\n",
       "      <td>-0.30</td>\n",
       "      <td>1631</td>\n",
       "      <td>1</td>\n",
       "      <td>0.0</td>\n",
       "      <td>0.0</td>\n",
       "    </tr>\n",
       "    <tr>\n",
       "      <th>3</th>\n",
       "      <td>2375</td>\n",
       "      <td>26984851472</td>\n",
       "      <td>1</td>\n",
       "      <td>1082185</td>\n",
       "      <td>1</td>\n",
       "      <td>1.21</td>\n",
       "      <td>364</td>\n",
       "      <td>0.00</td>\n",
       "      <td>1631</td>\n",
       "      <td>1</td>\n",
       "      <td>0.0</td>\n",
       "      <td>0.0</td>\n",
       "    </tr>\n",
       "    <tr>\n",
       "      <th>4</th>\n",
       "      <td>2375</td>\n",
       "      <td>26984851472</td>\n",
       "      <td>1</td>\n",
       "      <td>8160430</td>\n",
       "      <td>1</td>\n",
       "      <td>1.50</td>\n",
       "      <td>364</td>\n",
       "      <td>-0.39</td>\n",
       "      <td>1631</td>\n",
       "      <td>1</td>\n",
       "      <td>0.0</td>\n",
       "      <td>0.0</td>\n",
       "    </tr>\n",
       "    <tr>\n",
       "      <th>5</th>\n",
       "      <td>2375</td>\n",
       "      <td>26984851516</td>\n",
       "      <td>1</td>\n",
       "      <td>826249</td>\n",
       "      <td>2</td>\n",
       "      <td>1.98</td>\n",
       "      <td>364</td>\n",
       "      <td>-0.60</td>\n",
       "      <td>1642</td>\n",
       "      <td>1</td>\n",
       "      <td>0.0</td>\n",
       "      <td>0.0</td>\n",
       "    </tr>\n",
       "    <tr>\n",
       "      <th>6</th>\n",
       "      <td>2375</td>\n",
       "      <td>26984851516</td>\n",
       "      <td>1</td>\n",
       "      <td>1043142</td>\n",
       "      <td>1</td>\n",
       "      <td>1.57</td>\n",
       "      <td>364</td>\n",
       "      <td>-0.68</td>\n",
       "      <td>1642</td>\n",
       "      <td>1</td>\n",
       "      <td>0.0</td>\n",
       "      <td>0.0</td>\n",
       "    </tr>\n",
       "    <tr>\n",
       "      <th>7</th>\n",
       "      <td>2375</td>\n",
       "      <td>26984851516</td>\n",
       "      <td>1</td>\n",
       "      <td>1085983</td>\n",
       "      <td>1</td>\n",
       "      <td>2.99</td>\n",
       "      <td>364</td>\n",
       "      <td>-0.40</td>\n",
       "      <td>1642</td>\n",
       "      <td>1</td>\n",
       "      <td>0.0</td>\n",
       "      <td>0.0</td>\n",
       "    </tr>\n",
       "    <tr>\n",
       "      <th>8</th>\n",
       "      <td>2375</td>\n",
       "      <td>26984851516</td>\n",
       "      <td>1</td>\n",
       "      <td>1102651</td>\n",
       "      <td>1</td>\n",
       "      <td>1.89</td>\n",
       "      <td>364</td>\n",
       "      <td>0.00</td>\n",
       "      <td>1642</td>\n",
       "      <td>1</td>\n",
       "      <td>0.0</td>\n",
       "      <td>0.0</td>\n",
       "    </tr>\n",
       "    <tr>\n",
       "      <th>9</th>\n",
       "      <td>2375</td>\n",
       "      <td>26984851516</td>\n",
       "      <td>1</td>\n",
       "      <td>6423775</td>\n",
       "      <td>1</td>\n",
       "      <td>2.00</td>\n",
       "      <td>364</td>\n",
       "      <td>-0.79</td>\n",
       "      <td>1642</td>\n",
       "      <td>1</td>\n",
       "      <td>0.0</td>\n",
       "      <td>0.0</td>\n",
       "    </tr>\n",
       "  </tbody>\n",
       "</table>\n",
       "</div>"
      ],
      "text/plain": [
       "   user_id    basket_id  day  item_id  quantity  sales_value  store_id  \\\n",
       "0     2375  26984851472    1  1004906         1         1.39       364   \n",
       "1     2375  26984851472    1  1033142         1         0.82       364   \n",
       "2     2375  26984851472    1  1036325         1         0.99       364   \n",
       "3     2375  26984851472    1  1082185         1         1.21       364   \n",
       "4     2375  26984851472    1  8160430         1         1.50       364   \n",
       "5     2375  26984851516    1   826249         2         1.98       364   \n",
       "6     2375  26984851516    1  1043142         1         1.57       364   \n",
       "7     2375  26984851516    1  1085983         1         2.99       364   \n",
       "8     2375  26984851516    1  1102651         1         1.89       364   \n",
       "9     2375  26984851516    1  6423775         1         2.00       364   \n",
       "\n",
       "   retail_disc  trans_time  week_no  coupon_disc  coupon_match_disc  \n",
       "0        -0.60        1631        1          0.0                0.0  \n",
       "1         0.00        1631        1          0.0                0.0  \n",
       "2        -0.30        1631        1          0.0                0.0  \n",
       "3         0.00        1631        1          0.0                0.0  \n",
       "4        -0.39        1631        1          0.0                0.0  \n",
       "5        -0.60        1642        1          0.0                0.0  \n",
       "6        -0.68        1642        1          0.0                0.0  \n",
       "7        -0.40        1642        1          0.0                0.0  \n",
       "8         0.00        1642        1          0.0                0.0  \n",
       "9        -0.79        1642        1          0.0                0.0  "
      ]
     },
     "execution_count": 1194,
     "metadata": {},
     "output_type": "execute_result"
    }
   ],
   "source": [
    "data = pd.read_csv('transaction_data.csv')\n",
    "\n",
    "data.columns = [col.lower() for col in data.columns]\n",
    "data.rename(columns={'household_key': 'user_id',\n",
    "                    'product_id': 'item_id'},\n",
    "           inplace=True)\n",
    "\n",
    "\n",
    "test_size_weeks = 3\n",
    "\n",
    "data_train = data[data['week_no'] < data['week_no'].max() - test_size_weeks]\n",
    "data_test = data[data['week_no'] >= data['week_no'].max() - test_size_weeks]\n",
    "\n",
    "data_train.head(10)"
   ]
  },
  {
   "cell_type": "code",
   "execution_count": 1195,
   "id": "1a7c94e7",
   "metadata": {},
   "outputs": [
    {
     "data": {
      "text/html": [
       "<div>\n",
       "<style scoped>\n",
       "    .dataframe tbody tr th:only-of-type {\n",
       "        vertical-align: middle;\n",
       "    }\n",
       "\n",
       "    .dataframe tbody tr th {\n",
       "        vertical-align: top;\n",
       "    }\n",
       "\n",
       "    .dataframe thead th {\n",
       "        text-align: right;\n",
       "    }\n",
       "</style>\n",
       "<table border=\"1\" class=\"dataframe\">\n",
       "  <thead>\n",
       "    <tr style=\"text-align: right;\">\n",
       "      <th></th>\n",
       "      <th>item_id</th>\n",
       "      <th>manufacturer</th>\n",
       "      <th>department</th>\n",
       "      <th>brand</th>\n",
       "      <th>commodity_desc</th>\n",
       "      <th>sub_commodity_desc</th>\n",
       "      <th>curr_size_of_product</th>\n",
       "    </tr>\n",
       "  </thead>\n",
       "  <tbody>\n",
       "    <tr>\n",
       "      <th>0</th>\n",
       "      <td>25671</td>\n",
       "      <td>2</td>\n",
       "      <td>GROCERY</td>\n",
       "      <td>National</td>\n",
       "      <td>FRZN ICE</td>\n",
       "      <td>ICE - CRUSHED/CUBED</td>\n",
       "      <td>22 LB</td>\n",
       "    </tr>\n",
       "    <tr>\n",
       "      <th>1</th>\n",
       "      <td>26081</td>\n",
       "      <td>2</td>\n",
       "      <td>MISC. TRANS.</td>\n",
       "      <td>National</td>\n",
       "      <td>NO COMMODITY DESCRIPTION</td>\n",
       "      <td>NO SUBCOMMODITY DESCRIPTION</td>\n",
       "      <td></td>\n",
       "    </tr>\n",
       "  </tbody>\n",
       "</table>\n",
       "</div>"
      ],
      "text/plain": [
       "   item_id  manufacturer    department     brand            commodity_desc  \\\n",
       "0    25671             2       GROCERY  National                  FRZN ICE   \n",
       "1    26081             2  MISC. TRANS.  National  NO COMMODITY DESCRIPTION   \n",
       "\n",
       "            sub_commodity_desc curr_size_of_product  \n",
       "0          ICE - CRUSHED/CUBED                22 LB  \n",
       "1  NO SUBCOMMODITY DESCRIPTION                       "
      ]
     },
     "execution_count": 1195,
     "metadata": {},
     "output_type": "execute_result"
    }
   ],
   "source": [
    "item_features = pd.read_csv('product.csv')\n",
    "item_features.columns = [col.lower() for col in item_features.columns]\n",
    "item_features.rename(columns={'product_id': 'item_id'}, inplace=True)\n",
    "\n",
    "item_features.head(2)"
   ]
  },
  {
   "cell_type": "code",
   "execution_count": 1196,
   "id": "85509ba6",
   "metadata": {},
   "outputs": [
    {
     "name": "stderr",
     "output_type": "stream",
     "text": [
      "<ipython-input-1196-73e31537f690>:1: SettingWithCopyWarning: \n",
      "A value is trying to be set on a copy of a slice from a DataFrame.\n",
      "Try using .loc[row_indexer,col_indexer] = value instead\n",
      "\n",
      "See the caveats in the documentation: https://pandas.pydata.org/pandas-docs/stable/user_guide/indexing.html#returning-a-view-versus-a-copy\n",
      "  data_train['price'] = data_train['sales_value'] / (np.maximum(data_train['quantity'], 1))\n"
     ]
    },
    {
     "data": {
      "text/plain": [
       "499.99"
      ]
     },
     "execution_count": 1196,
     "metadata": {},
     "output_type": "execute_result"
    }
   ],
   "source": [
    "data_train['price'] = data_train['sales_value'] / (np.maximum(data_train['quantity'], 1))\n",
    "data_train['price'].max()"
   ]
  },
  {
   "cell_type": "code",
   "execution_count": 1197,
   "id": "b9e783c6",
   "metadata": {},
   "outputs": [],
   "source": [
    "def prefilter_items(data):\n",
    "    # Уберем самые популярные товары (их и так купят)\n",
    "    popularity = data.groupby('item_id')['user_id'].nunique().reset_index()\n",
    "    popularity.rename(columns={'user_id': 'share_unique_users'}, inplace=True)\n",
    "    popularity['share_unique_users'] = popularity['share_unique_users'] / data['user_id'].nunique()\n",
    "    \n",
    "    top_popular = popularity[popularity['share_unique_users'] > 0.3].item_id.tolist()\n",
    "         #слишком много таких товаров -> слишком сильно падает пресижн\n",
    "    #data.loc[data['item_id'].isin(top_popular), 'item_id'] = 999_999\n",
    "    \n",
    "    # Уберем самые НЕ популярные товары (их и так НЕ купят)\n",
    "    not_top_popular = popularity[popularity['share_unique_users'] == 0.0004].item_id.tolist()\n",
    "    data.loc[data['item_id'].isin(not_top_popular), 'item_id'] = 999_999\n",
    "        \n",
    "        \n",
    "    # Уберем товары, которые не продавались за последние 12 месяцев \n",
    "        #слишком много таких товаров -> слишком сильно падает пресижн\n",
    "    #not_sold = data_train[data_train['week_no'] > 68].item_id.tolist()\n",
    "    #data.loc[data['item_id'].isin(not_sold), 'item_id'] = 999_999\n",
    "    \n",
    "    # Уберем не интересные для рекоммендаций категории (department)\n",
    "    id_department = item_features.groupby(['item_id', 'department']).nunique().reset_index()\n",
    "    not_top_department = item_features['department'].value_counts()[10:].index.tolist()\n",
    "    id_department = id_department[id_department['department'].isin(not_top_department)]\n",
    "    data.loc[data['item_id'].isin(id_department['item_id']), 'item_id'] = 999_999\n",
    "    \n",
    "    # Уберем слишком дешевые товары (на них не заработаем). 1 покупка из рассылок стоит 60 руб. \n",
    "    \n",
    "    cheap = data_train[data_train['price'] < data_train['price'].quantile(.05)].item_id.tolist()\n",
    "         #слишком много таких товаров -> слишком сильно падает пресижн\n",
    "    #data.loc[data['item_id'].isin(cheap), 'item_id'] = 999_999\n",
    "    \n",
    "    # Уберем слишком дорогие товары\n",
    "    \n",
    "    expensive = data_train[data_train['price'] > data_train['price'].quantile(.999)].item_id.tolist()\n",
    "    data.loc[data['item_id'].isin(expensive), 'item_id'] = 999_999\n",
    "    \n",
    "    return data\n",
    "    \n",
    "def postfilter_items(user_id, recommednations):\n",
    "    pass"
   ]
  },
  {
   "cell_type": "code",
   "execution_count": 1198,
   "id": "63f3d2f1-639e-49ae-ac2d-811c1440a29f",
   "metadata": {},
   "outputs": [
    {
     "name": "stderr",
     "output_type": "stream",
     "text": [
      "G:\\Anaconda\\lib\\site-packages\\pandas\\core\\indexing.py:1720: SettingWithCopyWarning: \n",
      "A value is trying to be set on a copy of a slice from a DataFrame.\n",
      "Try using .loc[row_indexer,col_indexer] = value instead\n",
      "\n",
      "See the caveats in the documentation: https://pandas.pydata.org/pandas-docs/stable/user_guide/indexing.html#returning-a-view-versus-a-copy\n",
      "  self._setitem_single_column(loc, value, pi)\n",
      "G:\\Anaconda\\lib\\site-packages\\pandas\\core\\indexing.py:1720: SettingWithCopyWarning: \n",
      "A value is trying to be set on a copy of a slice from a DataFrame.\n",
      "Try using .loc[row_indexer,col_indexer] = value instead\n",
      "\n",
      "See the caveats in the documentation: https://pandas.pydata.org/pandas-docs/stable/user_guide/indexing.html#returning-a-view-versus-a-copy\n",
      "  self._setitem_single_column(loc, value, pi)\n"
     ]
    }
   ],
   "source": [
    "data_train = prefilter_items(data_train)"
   ]
  },
  {
   "cell_type": "code",
   "execution_count": 1199,
   "id": "ef8943ac-93a7-4877-83a7-5c89bbb4f66f",
   "metadata": {},
   "outputs": [],
   "source": [
    "train_result = data_train.groupby('user_id')['item_id'].unique().reset_index()\n",
    "train_result.columns=['user_id', 'actual']"
   ]
  },
  {
   "cell_type": "code",
   "execution_count": 1200,
   "id": "d2ceb834-50a0-4d8c-b263-9af3501bb909",
   "metadata": {},
   "outputs": [],
   "source": [
    "test_result = data_test.groupby('user_id')['item_id'].unique().reset_index()\n",
    "test_result.columns=['user_id', 'actual']"
   ]
  },
  {
   "cell_type": "code",
   "execution_count": 1201,
   "id": "5a1799f3-0c0d-4cf0-8ef9-fe14ef26894d",
   "metadata": {},
   "outputs": [],
   "source": [
    "result = test_result"
   ]
  },
  {
   "cell_type": "code",
   "execution_count": 1202,
   "id": "3975e955-bdf0-4224-a851-69fb1acb020e",
   "metadata": {},
   "outputs": [],
   "source": [
    "popularity = data_train.groupby('item_id')['quantity'].sum().reset_index()\n",
    "popularity.rename(columns={'quantity': 'n_sold'}, inplace=True)\n",
    "\n",
    "top_5000 = popularity.sort_values('n_sold', ascending=False).head(5000).item_id.tolist()"
   ]
  },
  {
   "cell_type": "code",
   "execution_count": 1203,
   "id": "39d0dcee-9a96-49a3-8f5c-039ae3541563",
   "metadata": {},
   "outputs": [],
   "source": [
    "#data_train.loc[~data_train['item_id'].isin(top_5000), 'item_id'] = 999_999"
   ]
  },
  {
   "cell_type": "code",
   "execution_count": 1204,
   "id": "4591ea4d-4fc5-40c2-ae6d-1760aad7ebcf",
   "metadata": {},
   "outputs": [
    {
     "data": {
      "text/html": [
       "<div>\n",
       "<style scoped>\n",
       "    .dataframe tbody tr th:only-of-type {\n",
       "        vertical-align: middle;\n",
       "    }\n",
       "\n",
       "    .dataframe tbody tr th {\n",
       "        vertical-align: top;\n",
       "    }\n",
       "\n",
       "    .dataframe thead th {\n",
       "        text-align: right;\n",
       "    }\n",
       "</style>\n",
       "<table border=\"1\" class=\"dataframe\">\n",
       "  <thead>\n",
       "    <tr style=\"text-align: right;\">\n",
       "      <th>item_id</th>\n",
       "      <th>25671</th>\n",
       "      <th>26691</th>\n",
       "      <th>27021</th>\n",
       "      <th>27159</th>\n",
       "      <th>27479</th>\n",
       "      <th>27658</th>\n",
       "      <th>27745</th>\n",
       "      <th>27754</th>\n",
       "      <th>27812</th>\n",
       "      <th>27951</th>\n",
       "      <th>...</th>\n",
       "      <th>18056453</th>\n",
       "      <th>18104617</th>\n",
       "      <th>18104908</th>\n",
       "      <th>18105225</th>\n",
       "      <th>18105264</th>\n",
       "      <th>18106229</th>\n",
       "      <th>18106286</th>\n",
       "      <th>18119004</th>\n",
       "      <th>18119016</th>\n",
       "      <th>18120821</th>\n",
       "    </tr>\n",
       "    <tr>\n",
       "      <th>user_id</th>\n",
       "      <th></th>\n",
       "      <th></th>\n",
       "      <th></th>\n",
       "      <th></th>\n",
       "      <th></th>\n",
       "      <th></th>\n",
       "      <th></th>\n",
       "      <th></th>\n",
       "      <th></th>\n",
       "      <th></th>\n",
       "      <th></th>\n",
       "      <th></th>\n",
       "      <th></th>\n",
       "      <th></th>\n",
       "      <th></th>\n",
       "      <th></th>\n",
       "      <th></th>\n",
       "      <th></th>\n",
       "      <th></th>\n",
       "      <th></th>\n",
       "      <th></th>\n",
       "    </tr>\n",
       "  </thead>\n",
       "  <tbody>\n",
       "    <tr>\n",
       "      <th>1</th>\n",
       "      <td>0.0</td>\n",
       "      <td>0.0</td>\n",
       "      <td>0.0</td>\n",
       "      <td>0.0</td>\n",
       "      <td>0.0</td>\n",
       "      <td>0.0</td>\n",
       "      <td>0.0</td>\n",
       "      <td>0.0</td>\n",
       "      <td>0.0</td>\n",
       "      <td>0.0</td>\n",
       "      <td>...</td>\n",
       "      <td>0.0</td>\n",
       "      <td>0.0</td>\n",
       "      <td>0.0</td>\n",
       "      <td>0.0</td>\n",
       "      <td>0.0</td>\n",
       "      <td>0.0</td>\n",
       "      <td>0.0</td>\n",
       "      <td>0.0</td>\n",
       "      <td>0.0</td>\n",
       "      <td>0.0</td>\n",
       "    </tr>\n",
       "    <tr>\n",
       "      <th>2</th>\n",
       "      <td>0.0</td>\n",
       "      <td>0.0</td>\n",
       "      <td>0.0</td>\n",
       "      <td>0.0</td>\n",
       "      <td>0.0</td>\n",
       "      <td>0.0</td>\n",
       "      <td>0.0</td>\n",
       "      <td>0.0</td>\n",
       "      <td>0.0</td>\n",
       "      <td>0.0</td>\n",
       "      <td>...</td>\n",
       "      <td>0.0</td>\n",
       "      <td>0.0</td>\n",
       "      <td>0.0</td>\n",
       "      <td>0.0</td>\n",
       "      <td>0.0</td>\n",
       "      <td>0.0</td>\n",
       "      <td>0.0</td>\n",
       "      <td>0.0</td>\n",
       "      <td>0.0</td>\n",
       "      <td>0.0</td>\n",
       "    </tr>\n",
       "    <tr>\n",
       "      <th>3</th>\n",
       "      <td>0.0</td>\n",
       "      <td>0.0</td>\n",
       "      <td>0.0</td>\n",
       "      <td>0.0</td>\n",
       "      <td>0.0</td>\n",
       "      <td>0.0</td>\n",
       "      <td>0.0</td>\n",
       "      <td>0.0</td>\n",
       "      <td>0.0</td>\n",
       "      <td>0.0</td>\n",
       "      <td>...</td>\n",
       "      <td>0.0</td>\n",
       "      <td>0.0</td>\n",
       "      <td>0.0</td>\n",
       "      <td>0.0</td>\n",
       "      <td>0.0</td>\n",
       "      <td>0.0</td>\n",
       "      <td>0.0</td>\n",
       "      <td>0.0</td>\n",
       "      <td>0.0</td>\n",
       "      <td>0.0</td>\n",
       "    </tr>\n",
       "  </tbody>\n",
       "</table>\n",
       "<p>3 rows × 52384 columns</p>\n",
       "</div>"
      ],
      "text/plain": [
       "item_id  25671     26691     27021     27159     27479     27658     27745     \\\n",
       "user_id                                                                         \n",
       "1             0.0       0.0       0.0       0.0       0.0       0.0       0.0   \n",
       "2             0.0       0.0       0.0       0.0       0.0       0.0       0.0   \n",
       "3             0.0       0.0       0.0       0.0       0.0       0.0       0.0   \n",
       "\n",
       "item_id  27754     27812     27951     ...  18056453  18104617  18104908  \\\n",
       "user_id                                ...                                 \n",
       "1             0.0       0.0       0.0  ...       0.0       0.0       0.0   \n",
       "2             0.0       0.0       0.0  ...       0.0       0.0       0.0   \n",
       "3             0.0       0.0       0.0  ...       0.0       0.0       0.0   \n",
       "\n",
       "item_id  18105225  18105264  18106229  18106286  18119004  18119016  18120821  \n",
       "user_id                                                                        \n",
       "1             0.0       0.0       0.0       0.0       0.0       0.0       0.0  \n",
       "2             0.0       0.0       0.0       0.0       0.0       0.0       0.0  \n",
       "3             0.0       0.0       0.0       0.0       0.0       0.0       0.0  \n",
       "\n",
       "[3 rows x 52384 columns]"
      ]
     },
     "execution_count": 1204,
     "metadata": {},
     "output_type": "execute_result"
    }
   ],
   "source": [
    "user_item_matrix = pd.pivot_table(data_train, \n",
    "                                  index='user_id', columns='item_id', \n",
    "                                  values='quantity', \n",
    "                                  aggfunc='count', \n",
    "                                  fill_value=0\n",
    "                                 )\n",
    "\n",
    "user_item_matrix = user_item_matrix.astype(float) # необходимый тип матрицы для implicit\n",
    "\n",
    "# переведем в формат saprse matrix\n",
    "sparse_user_item = csr_matrix(user_item_matrix)\n",
    "\n",
    "user_item_matrix.head(3)"
   ]
  },
  {
   "cell_type": "code",
   "execution_count": 1205,
   "id": "a249b117-c83c-433e-b287-6fb7869b1fbb",
   "metadata": {},
   "outputs": [],
   "source": [
    "userids = user_item_matrix.index.values\n",
    "itemids = user_item_matrix.columns.values\n",
    "\n",
    "matrix_userids = np.arange(len(userids))\n",
    "matrix_itemids = np.arange(len(itemids))\n",
    "\n",
    "id_to_itemid = dict(zip(matrix_itemids, itemids))\n",
    "id_to_userid = dict(zip(matrix_userids, userids))\n",
    "\n",
    "itemid_to_id = dict(zip(itemids, matrix_itemids))\n",
    "userid_to_id = dict(zip(userids, matrix_userids))"
   ]
  },
  {
   "cell_type": "code",
   "execution_count": 1206,
   "id": "9f13c5a0-bef2-4664-9566-6aff47d445e3",
   "metadata": {},
   "outputs": [],
   "source": [
    "def get_recommendations(user, model, N=5):\n",
    "    res = [id_to_itemid[rec[0]] for rec in \n",
    "                    model.recommend(userid=userid_to_id[user], \n",
    "                                    user_items=sparse_user_item,   # на вход user-item matrix\n",
    "                                    N=N, \n",
    "                                    filter_already_liked_items=False, \n",
    "                                    filter_items=[itemid_to_id[999_999]], \n",
    "                                    recalculate_user=True)]\n",
    "    return res"
   ]
  },
  {
   "cell_type": "code",
   "execution_count": 1207,
   "id": "ede1f0ba-0329-4e62-b062-d65c8d61a8d9",
   "metadata": {},
   "outputs": [],
   "source": [
    "def precision(recommended_list, bought_list):\n",
    "    \n",
    "    bought_list = np.array(bought_list)\n",
    "    recommended_list = np.array(recommended_list)\n",
    "    \n",
    "    flags = np.isin(bought_list, recommended_list)\n",
    "    return flags.sum() / len(recommended_list)\n",
    "\n",
    "def precision_at_k(recommended_list, bought_list, k=5):\n",
    "    return precision(recommended_list[:k], bought_list)"
   ]
  },
  {
   "cell_type": "code",
   "execution_count": 1216,
   "id": "b3d0b4c4-507a-4d1d-a7c6-28e2845c75cd",
   "metadata": {},
   "outputs": [],
   "source": [
    "#подбирала парметры на топ-5000, т.к. экономнее по времени"
   ]
  },
  {
   "cell_type": "code",
   "execution_count": 1112,
   "id": "7b0a5fca-79d0-465e-953d-e09eb3d70902",
   "metadata": {
    "tags": []
   },
   "outputs": [
    {
     "name": "stdout",
     "output_type": "stream",
     "text": [
      "Итерация 1 из 80. Времени затрачено: 0.43 минут.\n",
      "Итерация 10 из 80. Времени затрачено: 4.31 минут.\n",
      "Итерация 20 из 80. Времени затрачено: 8.73 минут.\n",
      "Итерация 30 из 80. Времени затрачено: 15.28 минут.\n",
      "Итерация 40 из 80. Времени затрачено: 21.75 минут.\n",
      "Итерация 50 из 80. Времени затрачено: 32.67 минут.\n",
      "Итерация 60 из 80. Времени затрачено: 44.56 минут.\n",
      "Итерация 70 из 80. Времени затрачено: 62.73 минут.\n",
      "Итерация 80 из 80. Времени затрачено: 80.47 минут.\n"
     ]
    }
   ],
   "source": [
    "import time\n",
    "\n",
    "params = {\n",
    "    'factors':[10, 50, 100, 150],\n",
    "    'iterations':[5, 10, 15, 20, 25],\n",
    "    'regularization':[0.001, 0.01, 0.05, 0.1]\n",
    "}\n",
    "\n",
    "result_feat = {\n",
    "    'factors':[],\n",
    "    'iterations':[],\n",
    "    'regularization':[],\n",
    "    'precision_train':[],\n",
    "    'precision_test':[]\n",
    "}\n",
    "\n",
    "start_time = time.time()\n",
    "i = 0\n",
    "for factor in params['factors']:\n",
    "    for iteration in params['iterations']:\n",
    "        for regular in params['regularization']: \n",
    "                result_feat['factors'].append(factor)\n",
    "                result_feat['iterations'].append(iteration)\n",
    "                result_feat['regularization'].append(regular)\n",
    "                model = AlternatingLeastSquares(factors=factor,\n",
    "                                                regularization=regular,\n",
    "                                                iterations=iteration, \n",
    "                                                calculate_training_loss=True, \n",
    "                                                num_threads=10,\n",
    "                                                use_gpu=False)        \n",
    "                model.fit(csr_matrix(user_item_matrix).T.tocsr(), show_progress=False)\n",
    "                \n",
    "                res_name = f'ALS: factors: {factor}, iterations: {iteration}, regularization: {regular}'\n",
    "                train_result[res_name] = train_result['user_id'].apply(lambda x: get_recommendations(x, model=model, N=5))\n",
    "                precision_train = train_result.apply(lambda row: precision_at_k(row[res_name], row['actual']), axis=1).mean()\n",
    "        \n",
    "                test_result[res_name] = test_result['user_id'].apply(lambda x: get_recommendations(x, model=model, N=5))\n",
    "                precision_test = test_result.apply(lambda row: precision_at_k(row[res_name], row['actual']), axis=1).mean()\n",
    "                \n",
    "                result_feat['precision_train'].append(precision_train)\n",
    "                result_feat['precision_test'].append(precision_test)\n",
    "                \n",
    "                i +=1\n",
    "                total_time = time.time()\n",
    "                \n",
    "                if i % 10 == 0 or i == 1:                \n",
    "                    print(f'Итерация {i} из 80. Времени затрачено: {((total_time - start_time) / 60):.2f} минут.')"
   ]
  },
  {
   "cell_type": "code",
   "execution_count": 1145,
   "id": "a69b408c-b85f-419d-b118-2f10c5ad2ba7",
   "metadata": {},
   "outputs": [
    {
     "data": {
      "text/html": [
       "<div>\n",
       "<style scoped>\n",
       "    .dataframe tbody tr th:only-of-type {\n",
       "        vertical-align: middle;\n",
       "    }\n",
       "\n",
       "    .dataframe tbody tr th {\n",
       "        vertical-align: top;\n",
       "    }\n",
       "\n",
       "    .dataframe thead th {\n",
       "        text-align: right;\n",
       "    }\n",
       "</style>\n",
       "<table border=\"1\" class=\"dataframe\">\n",
       "  <thead>\n",
       "    <tr style=\"text-align: right;\">\n",
       "      <th></th>\n",
       "      <th>factors</th>\n",
       "      <th>iterations</th>\n",
       "      <th>regularization</th>\n",
       "      <th>precision_train</th>\n",
       "      <th>precision_test</th>\n",
       "    </tr>\n",
       "  </thead>\n",
       "  <tbody>\n",
       "    <tr>\n",
       "      <th>2</th>\n",
       "      <td>10</td>\n",
       "      <td>5</td>\n",
       "      <td>0.050</td>\n",
       "      <td>0.63808</td>\n",
       "      <td>0.190758</td>\n",
       "    </tr>\n",
       "    <tr>\n",
       "      <th>19</th>\n",
       "      <td>10</td>\n",
       "      <td>25</td>\n",
       "      <td>0.100</td>\n",
       "      <td>0.63920</td>\n",
       "      <td>0.189453</td>\n",
       "    </tr>\n",
       "    <tr>\n",
       "      <th>10</th>\n",
       "      <td>10</td>\n",
       "      <td>15</td>\n",
       "      <td>0.050</td>\n",
       "      <td>0.63944</td>\n",
       "      <td>0.188749</td>\n",
       "    </tr>\n",
       "    <tr>\n",
       "      <th>7</th>\n",
       "      <td>10</td>\n",
       "      <td>10</td>\n",
       "      <td>0.100</td>\n",
       "      <td>0.63720</td>\n",
       "      <td>0.188147</td>\n",
       "    </tr>\n",
       "    <tr>\n",
       "      <th>6</th>\n",
       "      <td>10</td>\n",
       "      <td>10</td>\n",
       "      <td>0.050</td>\n",
       "      <td>0.63760</td>\n",
       "      <td>0.188046</td>\n",
       "    </tr>\n",
       "    <tr>\n",
       "      <th>1</th>\n",
       "      <td>10</td>\n",
       "      <td>5</td>\n",
       "      <td>0.010</td>\n",
       "      <td>0.63704</td>\n",
       "      <td>0.187946</td>\n",
       "    </tr>\n",
       "    <tr>\n",
       "      <th>0</th>\n",
       "      <td>10</td>\n",
       "      <td>5</td>\n",
       "      <td>0.001</td>\n",
       "      <td>0.64288</td>\n",
       "      <td>0.187745</td>\n",
       "    </tr>\n",
       "    <tr>\n",
       "      <th>11</th>\n",
       "      <td>10</td>\n",
       "      <td>15</td>\n",
       "      <td>0.100</td>\n",
       "      <td>0.63984</td>\n",
       "      <td>0.187243</td>\n",
       "    </tr>\n",
       "    <tr>\n",
       "      <th>9</th>\n",
       "      <td>10</td>\n",
       "      <td>15</td>\n",
       "      <td>0.010</td>\n",
       "      <td>0.64080</td>\n",
       "      <td>0.187243</td>\n",
       "    </tr>\n",
       "    <tr>\n",
       "      <th>3</th>\n",
       "      <td>10</td>\n",
       "      <td>5</td>\n",
       "      <td>0.100</td>\n",
       "      <td>0.64312</td>\n",
       "      <td>0.187142</td>\n",
       "    </tr>\n",
       "    <tr>\n",
       "      <th>18</th>\n",
       "      <td>10</td>\n",
       "      <td>25</td>\n",
       "      <td>0.050</td>\n",
       "      <td>0.64144</td>\n",
       "      <td>0.187042</td>\n",
       "    </tr>\n",
       "    <tr>\n",
       "      <th>12</th>\n",
       "      <td>10</td>\n",
       "      <td>20</td>\n",
       "      <td>0.001</td>\n",
       "      <td>0.64160</td>\n",
       "      <td>0.186941</td>\n",
       "    </tr>\n",
       "    <tr>\n",
       "      <th>43</th>\n",
       "      <td>100</td>\n",
       "      <td>5</td>\n",
       "      <td>0.100</td>\n",
       "      <td>0.80152</td>\n",
       "      <td>0.186841</td>\n",
       "    </tr>\n",
       "    <tr>\n",
       "      <th>15</th>\n",
       "      <td>10</td>\n",
       "      <td>20</td>\n",
       "      <td>0.100</td>\n",
       "      <td>0.63872</td>\n",
       "      <td>0.186841</td>\n",
       "    </tr>\n",
       "    <tr>\n",
       "      <th>16</th>\n",
       "      <td>10</td>\n",
       "      <td>25</td>\n",
       "      <td>0.001</td>\n",
       "      <td>0.64112</td>\n",
       "      <td>0.186539</td>\n",
       "    </tr>\n",
       "    <tr>\n",
       "      <th>23</th>\n",
       "      <td>50</td>\n",
       "      <td>5</td>\n",
       "      <td>0.100</td>\n",
       "      <td>0.72528</td>\n",
       "      <td>0.185736</td>\n",
       "    </tr>\n",
       "    <tr>\n",
       "      <th>13</th>\n",
       "      <td>10</td>\n",
       "      <td>20</td>\n",
       "      <td>0.010</td>\n",
       "      <td>0.63888</td>\n",
       "      <td>0.185535</td>\n",
       "    </tr>\n",
       "    <tr>\n",
       "      <th>14</th>\n",
       "      <td>10</td>\n",
       "      <td>20</td>\n",
       "      <td>0.050</td>\n",
       "      <td>0.63936</td>\n",
       "      <td>0.185434</td>\n",
       "    </tr>\n",
       "    <tr>\n",
       "      <th>5</th>\n",
       "      <td>10</td>\n",
       "      <td>10</td>\n",
       "      <td>0.010</td>\n",
       "      <td>0.63760</td>\n",
       "      <td>0.185234</td>\n",
       "    </tr>\n",
       "    <tr>\n",
       "      <th>8</th>\n",
       "      <td>10</td>\n",
       "      <td>15</td>\n",
       "      <td>0.001</td>\n",
       "      <td>0.63576</td>\n",
       "      <td>0.184932</td>\n",
       "    </tr>\n",
       "  </tbody>\n",
       "</table>\n",
       "</div>"
      ],
      "text/plain": [
       "    factors  iterations  regularization  precision_train  precision_test\n",
       "2        10           5           0.050          0.63808        0.190758\n",
       "19       10          25           0.100          0.63920        0.189453\n",
       "10       10          15           0.050          0.63944        0.188749\n",
       "7        10          10           0.100          0.63720        0.188147\n",
       "6        10          10           0.050          0.63760        0.188046\n",
       "1        10           5           0.010          0.63704        0.187946\n",
       "0        10           5           0.001          0.64288        0.187745\n",
       "11       10          15           0.100          0.63984        0.187243\n",
       "9        10          15           0.010          0.64080        0.187243\n",
       "3        10           5           0.100          0.64312        0.187142\n",
       "18       10          25           0.050          0.64144        0.187042\n",
       "12       10          20           0.001          0.64160        0.186941\n",
       "43      100           5           0.100          0.80152        0.186841\n",
       "15       10          20           0.100          0.63872        0.186841\n",
       "16       10          25           0.001          0.64112        0.186539\n",
       "23       50           5           0.100          0.72528        0.185736\n",
       "13       10          20           0.010          0.63888        0.185535\n",
       "14       10          20           0.050          0.63936        0.185434\n",
       "5        10          10           0.010          0.63760        0.185234\n",
       "8        10          15           0.001          0.63576        0.184932"
      ]
     },
     "execution_count": 1145,
     "metadata": {},
     "output_type": "execute_result"
    }
   ],
   "source": [
    "param_result = pd.DataFrame(result_feat)\n",
    "param_result.sort_values(by=['precision_test'], ascending=False).head(20)"
   ]
  },
  {
   "cell_type": "code",
   "execution_count": 1219,
   "id": "a8563c9f-6fa7-442e-a1de-a0696da285a3",
   "metadata": {},
   "outputs": [],
   "source": [
    "#для обучения в итоге использовала полный датасет после обработки (без 999999). На топ-5000 пресижн был ниже после тфидф и бм25.\n",
    "\n",
    "#взяла параметры с наиболее лучшим пресиджном по трейну и тесту (100, 5, 0.1)"
   ]
  },
  {
   "cell_type": "code",
   "execution_count": 1208,
   "id": "9973d719-9b48-4743-8a95-139711f6db13",
   "metadata": {},
   "outputs": [
    {
     "data": {
      "application/vnd.jupyter.widget-view+json": {
       "model_id": "4f8251f88eab4bd5aec44a0e750290c7",
       "version_major": 2,
       "version_minor": 0
      },
      "text/plain": [
       "  0%|          | 0/5 [00:00<?, ?it/s]"
      ]
     },
     "metadata": {},
     "output_type": "display_data"
    },
    {
     "name": "stdout",
     "output_type": "stream",
     "text": [
      "Wall time: 17min 48s\n"
     ]
    }
   ],
   "source": [
    "%%time\n",
    "\n",
    "model = AlternatingLeastSquares(factors=100, \n",
    "                                regularization=0.1,\n",
    "                                iterations=5, \n",
    "                                calculate_training_loss=True, \n",
    "                                num_threads=10,\n",
    "                                use_gpu=False)\n",
    "\n",
    "model.fit(csr_matrix(user_item_matrix).T.tocsr(),  # На вход item-user matrix\n",
    "          show_progress=True)\n",
    "\n",
    "result['als'] = result['user_id'].apply(lambda x: get_recommendations(x, model=model, N=5))"
   ]
  },
  {
   "cell_type": "code",
   "execution_count": 1209,
   "id": "6e83fdd6-4a73-41e2-9eaf-f33e7cbc5101",
   "metadata": {},
   "outputs": [
    {
     "data": {
      "text/plain": [
       "0.1864389753892494"
      ]
     },
     "execution_count": 1209,
     "metadata": {},
     "output_type": "execute_result"
    }
   ],
   "source": [
    "result.apply(lambda row: precision_at_k(row['als'], row['actual']), axis=1).mean()"
   ]
  },
  {
   "cell_type": "code",
   "execution_count": 1210,
   "id": "1f21dad3-a588-4c8c-a0cf-6dcd6cfb0fd8",
   "metadata": {
    "id": "4hA_6DX7IHyz"
   },
   "outputs": [],
   "source": [
    "user_item_matrix = tfidf_weight(user_item_matrix.T).T  # Применяется к item-user матрице ! "
   ]
  },
  {
   "cell_type": "code",
   "execution_count": 1211,
   "id": "849d231a-934e-42bc-ab67-3ec45eb6f8f8",
   "metadata": {
    "colab": {
     "referenced_widgets": [
      "6fee8130b62245e0b0a0597124b6c3ac"
     ]
    },
    "id": "baK0yoTwIHyz",
    "outputId": "16a60037-5061-44f4-9f7e-8a431bb55b43"
   },
   "outputs": [
    {
     "data": {
      "application/vnd.jupyter.widget-view+json": {
       "model_id": "7cddfd2ce69b4c6793acd59501eef877",
       "version_major": 2,
       "version_minor": 0
      },
      "text/plain": [
       "  0%|          | 0/5 [00:00<?, ?it/s]"
      ]
     },
     "metadata": {},
     "output_type": "display_data"
    }
   ],
   "source": [
    "model.fit(csr_matrix(user_item_matrix).T.tocsr(),  # На вход item-user matrix\n",
    "          show_progress=True)"
   ]
  },
  {
   "cell_type": "code",
   "execution_count": 1212,
   "id": "f30da9b6-5fea-4e79-9751-ece75645c75c",
   "metadata": {},
   "outputs": [
    {
     "data": {
      "text/plain": [
       "0.20793571069813838"
      ]
     },
     "execution_count": 1212,
     "metadata": {},
     "output_type": "execute_result"
    }
   ],
   "source": [
    "result['als_tfidf'] = result['user_id'].apply(lambda x: get_recommendations(x, model=model, N=5))\n",
    "\n",
    "result.apply(lambda row: precision_at_k(row['als_tfidf'], row['actual']), axis=1).mean()"
   ]
  },
  {
   "cell_type": "code",
   "execution_count": 1213,
   "id": "b2e927d8-1b2c-494e-bf22-b864ab3fabcd",
   "metadata": {},
   "outputs": [
    {
     "data": {
      "application/vnd.jupyter.widget-view+json": {
       "model_id": "988a24b25e1e4feb8b799fd9641d066f",
       "version_major": 2,
       "version_minor": 0
      },
      "text/plain": [
       "  0%|          | 0/5 [00:00<?, ?it/s]"
      ]
     },
     "metadata": {},
     "output_type": "display_data"
    }
   ],
   "source": [
    "user_item_matrix = bm25_weight(user_item_matrix.T).T  # Применяется к item-user матрице ! \n",
    "\n",
    "model.fit(csr_matrix(user_item_matrix).T.tocsr(),  # На вход item-user matrix\n",
    "          show_progress=True)"
   ]
  },
  {
   "cell_type": "code",
   "execution_count": 1214,
   "id": "b0898979-c005-4a06-bb65-769fca932b13",
   "metadata": {},
   "outputs": [
    {
     "data": {
      "text/plain": [
       "0.24640883977900263"
      ]
     },
     "execution_count": 1214,
     "metadata": {},
     "output_type": "execute_result"
    }
   ],
   "source": [
    "result['als_bm25'] = result['user_id'].apply(lambda x: get_recommendations(x, model=model, N=5))\n",
    "result.apply(lambda row: precision_at_k(row['als_bm25'], row['actual']), axis=1).mean()"
   ]
  },
  {
   "cell_type": "code",
   "execution_count": 1215,
   "id": "468cb2f7-62c4-49ae-9b9f-a37055e5eb30",
   "metadata": {},
   "outputs": [
    {
     "data": {
      "text/html": [
       "<div>\n",
       "<style scoped>\n",
       "    .dataframe tbody tr th:only-of-type {\n",
       "        vertical-align: middle;\n",
       "    }\n",
       "\n",
       "    .dataframe tbody tr th {\n",
       "        vertical-align: top;\n",
       "    }\n",
       "\n",
       "    .dataframe thead th {\n",
       "        text-align: right;\n",
       "    }\n",
       "</style>\n",
       "<table border=\"1\" class=\"dataframe\">\n",
       "  <thead>\n",
       "    <tr style=\"text-align: right;\">\n",
       "      <th></th>\n",
       "      <th>user_id</th>\n",
       "      <th>actual</th>\n",
       "      <th>als</th>\n",
       "      <th>als_tfidf</th>\n",
       "      <th>als_bm25</th>\n",
       "    </tr>\n",
       "  </thead>\n",
       "  <tbody>\n",
       "    <tr>\n",
       "      <th>0</th>\n",
       "      <td>1</td>\n",
       "      <td>[879517, 934369, 1115576, 1124029, 5572301, 65...</td>\n",
       "      <td>[1056509, 1100972, 990797, 866211, 1077555]</td>\n",
       "      <td>[1082185, 995242, 866211, 1082212, 981760]</td>\n",
       "      <td>[1082185, 995242, 1024306, 1075074, 962568]</td>\n",
       "    </tr>\n",
       "    <tr>\n",
       "      <th>1</th>\n",
       "      <td>3</td>\n",
       "      <td>[823704, 834117, 840244, 913785, 917816, 93870...</td>\n",
       "      <td>[1092026, 1022003, 951590, 8090521, 1106523]</td>\n",
       "      <td>[1106523, 951590, 1133018, 1082185, 883404]</td>\n",
       "      <td>[883404, 1044078, 951590, 1098066, 826249]</td>\n",
       "    </tr>\n",
       "  </tbody>\n",
       "</table>\n",
       "</div>"
      ],
      "text/plain": [
       "   user_id                                             actual  \\\n",
       "0        1  [879517, 934369, 1115576, 1124029, 5572301, 65...   \n",
       "1        3  [823704, 834117, 840244, 913785, 917816, 93870...   \n",
       "\n",
       "                                            als  \\\n",
       "0   [1056509, 1100972, 990797, 866211, 1077555]   \n",
       "1  [1092026, 1022003, 951590, 8090521, 1106523]   \n",
       "\n",
       "                                     als_tfidf  \\\n",
       "0   [1082185, 995242, 866211, 1082212, 981760]   \n",
       "1  [1106523, 951590, 1133018, 1082185, 883404]   \n",
       "\n",
       "                                      als_bm25  \n",
       "0  [1082185, 995242, 1024306, 1075074, 962568]  \n",
       "1   [883404, 1044078, 951590, 1098066, 826249]  "
      ]
     },
     "execution_count": 1215,
     "metadata": {},
     "output_type": "execute_result"
    }
   ],
   "source": [
    "result.head(2)"
   ]
  },
  {
   "cell_type": "markdown",
   "id": "8be0d782-06e8-4991-8074-a3ea183049a3",
   "metadata": {},
   "source": [
    "Conclusions:\n",
    "\n",
    "Дополнительно обработала массив (prefilter_items). Не стала убирать очень популярные товары, дешевые и длительно хранящиеся, т.к. тогда сильно падал пресижн. \n",
    "В целом, т.к. мы сравниваем с уже купленными товарами, то логчино, что там много дешевых/популярных товаров. Вероятно если сделать эти обработки а запустить на тест на недельку - он бы показал хороший результат. \n",
    "Но на таких данных решила оставить так.\n",
    "\n",
    "При выборе параметров для обечения, основывалась на хороших показателях на трейне и тесте, т.к. думаю 60% на трейне недообучена модель.\n",
    "По факту лучше показал именно тот вариант,что я выбрала.\n",
    "\n",
    "Также подбирала парметры на топ5000, однако обучать решила на полном обработанном датасете, т.к. я его итак значительно уменьшила обработкой."
   ]
  },
  {
   "cell_type": "code",
   "execution_count": null,
   "id": "4a0db8e3-42cc-48e9-acf4-fe89f428f637",
   "metadata": {},
   "outputs": [],
   "source": []
  }
 ],
 "metadata": {
  "kernelspec": {
   "display_name": "Python 3",
   "language": "python",
   "name": "python3"
  },
  "language_info": {
   "codemirror_mode": {
    "name": "ipython",
    "version": 3
   },
   "file_extension": ".py",
   "mimetype": "text/x-python",
   "name": "python",
   "nbconvert_exporter": "python",
   "pygments_lexer": "ipython3",
   "version": "3.8.8"
  }
 },
 "nbformat": 4,
 "nbformat_minor": 5
}
