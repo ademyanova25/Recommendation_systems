{
 "cells": [
  {
   "cell_type": "code",
   "execution_count": 166,
   "id": "d3a34f72",
   "metadata": {},
   "outputs": [],
   "source": [
    "#conda install -c conda-forge implicit==0.4.4"
   ]
  },
  {
   "cell_type": "code",
   "execution_count": 167,
   "id": "2e93d0fc",
   "metadata": {},
   "outputs": [],
   "source": [
    "#conda update -n base -c defaults conda"
   ]
  },
  {
   "cell_type": "code",
   "execution_count": 168,
   "id": "2c1b5fa1",
   "metadata": {},
   "outputs": [],
   "source": [
    "import pandas as pd\n",
    "import numpy as np\n",
    "import matplotlib.pyplot as plt\n",
    "%matplotlib inline\n",
    "\n",
    "# Для работы с матрицами\n",
    "from scipy.sparse import csr_matrix, coo_matrix\n",
    "\n",
    "# Детерминированные алгоритмы\n",
    "from implicit.nearest_neighbours import ItemItemRecommender, CosineRecommender, TFIDFRecommender, BM25Recommender\n",
    "\n",
    "# Метрики\n",
    "from implicit.evaluation import train_test_split\n",
    "from implicit.evaluation import precision_at_k, mean_average_precision_at_k, AUC_at_k, ndcg_at_k"
   ]
  },
  {
   "cell_type": "code",
   "execution_count": 169,
   "id": "faccc7cb",
   "metadata": {},
   "outputs": [
    {
     "data": {
      "text/html": [
       "<div>\n",
       "<style scoped>\n",
       "    .dataframe tbody tr th:only-of-type {\n",
       "        vertical-align: middle;\n",
       "    }\n",
       "\n",
       "    .dataframe tbody tr th {\n",
       "        vertical-align: top;\n",
       "    }\n",
       "\n",
       "    .dataframe thead th {\n",
       "        text-align: right;\n",
       "    }\n",
       "</style>\n",
       "<table border=\"1\" class=\"dataframe\">\n",
       "  <thead>\n",
       "    <tr style=\"text-align: right;\">\n",
       "      <th></th>\n",
       "      <th>user_id</th>\n",
       "      <th>basket_id</th>\n",
       "      <th>day</th>\n",
       "      <th>item_id</th>\n",
       "      <th>quantity</th>\n",
       "      <th>sales_value</th>\n",
       "      <th>store_id</th>\n",
       "      <th>retail_disc</th>\n",
       "      <th>trans_time</th>\n",
       "      <th>week_no</th>\n",
       "      <th>coupon_disc</th>\n",
       "      <th>coupon_match_disc</th>\n",
       "    </tr>\n",
       "  </thead>\n",
       "  <tbody>\n",
       "    <tr>\n",
       "      <th>0</th>\n",
       "      <td>2375</td>\n",
       "      <td>26984851472</td>\n",
       "      <td>1</td>\n",
       "      <td>1004906</td>\n",
       "      <td>1</td>\n",
       "      <td>1.39</td>\n",
       "      <td>364</td>\n",
       "      <td>-0.6</td>\n",
       "      <td>1631</td>\n",
       "      <td>1</td>\n",
       "      <td>0.0</td>\n",
       "      <td>0.0</td>\n",
       "    </tr>\n",
       "    <tr>\n",
       "      <th>1</th>\n",
       "      <td>2375</td>\n",
       "      <td>26984851472</td>\n",
       "      <td>1</td>\n",
       "      <td>1033142</td>\n",
       "      <td>1</td>\n",
       "      <td>0.82</td>\n",
       "      <td>364</td>\n",
       "      <td>0.0</td>\n",
       "      <td>1631</td>\n",
       "      <td>1</td>\n",
       "      <td>0.0</td>\n",
       "      <td>0.0</td>\n",
       "    </tr>\n",
       "  </tbody>\n",
       "</table>\n",
       "</div>"
      ],
      "text/plain": [
       "   user_id    basket_id  day  item_id  quantity  sales_value  store_id  \\\n",
       "0     2375  26984851472    1  1004906         1         1.39       364   \n",
       "1     2375  26984851472    1  1033142         1         0.82       364   \n",
       "\n",
       "   retail_disc  trans_time  week_no  coupon_disc  coupon_match_disc  \n",
       "0         -0.6        1631        1          0.0                0.0  \n",
       "1          0.0        1631        1          0.0                0.0  "
      ]
     },
     "execution_count": 169,
     "metadata": {},
     "output_type": "execute_result"
    }
   ],
   "source": [
    "data = pd.read_csv('retail_train.csv')\n",
    "data.head(2)"
   ]
  },
  {
   "cell_type": "code",
   "execution_count": 170,
   "id": "a806ea55",
   "metadata": {},
   "outputs": [],
   "source": [
    "test_size_weeks = 3\n",
    "\n",
    "data_train = data[data['week_no'] < data['week_no'].max() - test_size_weeks]\n",
    "data_test = data[data['week_no'] >= data['week_no'].max() - test_size_weeks]"
   ]
  },
  {
   "cell_type": "markdown",
   "id": "f1c43e25",
   "metadata": {},
   "source": [
    "# Задание 1. Weighted Random Recommendation"
   ]
  },
  {
   "cell_type": "markdown",
   "id": "57cc40ba",
   "metadata": {},
   "source": [
    "Напишите код для случайных рекоммендаций, в которых вероятность рекомендовать товар прямо пропорциональна логарифму продаж\n",
    "\n",
    "Можно сэмплировать товары случайно, но пропорционально какому-либо весу\n",
    "\n",
    "Например, прямопропорционально популярности. Вес = log(sales_sum товара)"
   ]
  },
  {
   "cell_type": "code",
   "execution_count": 171,
   "id": "7dde776c",
   "metadata": {},
   "outputs": [
    {
     "data": {
      "text/plain": [
       "0.9999999999999999"
      ]
     },
     "execution_count": 171,
     "metadata": {},
     "output_type": "execute_result"
    }
   ],
   "source": [
    "items_weights = data.groupby('item_id')['sales_value'].sum().reset_index().rename(columns={'sales_value': 'weight'})\n",
    "items_weights['weight'] = np.log(items_weights['weight'].map(lambda x: 1 if x < 1 else x))\n",
    "items_weights['weight'] /= items_weights['weight'].sum()\n",
    "items_weights['weight'].sum()"
   ]
  },
  {
   "cell_type": "code",
   "execution_count": 172,
   "id": "dc686269",
   "metadata": {},
   "outputs": [
    {
     "data": {
      "text/html": [
       "<div>\n",
       "<style scoped>\n",
       "    .dataframe tbody tr th:only-of-type {\n",
       "        vertical-align: middle;\n",
       "    }\n",
       "\n",
       "    .dataframe tbody tr th {\n",
       "        vertical-align: top;\n",
       "    }\n",
       "\n",
       "    .dataframe thead th {\n",
       "        text-align: right;\n",
       "    }\n",
       "</style>\n",
       "<table border=\"1\" class=\"dataframe\">\n",
       "  <thead>\n",
       "    <tr style=\"text-align: right;\">\n",
       "      <th></th>\n",
       "      <th>item_id</th>\n",
       "      <th>weight</th>\n",
       "    </tr>\n",
       "  </thead>\n",
       "  <tbody>\n",
       "    <tr>\n",
       "      <th>0</th>\n",
       "      <td>25671</td>\n",
       "      <td>0.000013</td>\n",
       "    </tr>\n",
       "    <tr>\n",
       "      <th>1</th>\n",
       "      <td>26081</td>\n",
       "      <td>0.000000</td>\n",
       "    </tr>\n",
       "    <tr>\n",
       "      <th>2</th>\n",
       "      <td>26093</td>\n",
       "      <td>0.000002</td>\n",
       "    </tr>\n",
       "    <tr>\n",
       "      <th>3</th>\n",
       "      <td>26190</td>\n",
       "      <td>0.000002</td>\n",
       "    </tr>\n",
       "    <tr>\n",
       "      <th>4</th>\n",
       "      <td>26355</td>\n",
       "      <td>0.000003</td>\n",
       "    </tr>\n",
       "  </tbody>\n",
       "</table>\n",
       "</div>"
      ],
      "text/plain": [
       "   item_id    weight\n",
       "0    25671  0.000013\n",
       "1    26081  0.000000\n",
       "2    26093  0.000002\n",
       "3    26190  0.000002\n",
       "4    26355  0.000003"
      ]
     },
     "execution_count": 172,
     "metadata": {},
     "output_type": "execute_result"
    }
   ],
   "source": [
    "items_weights.head(5)"
   ]
  },
  {
   "cell_type": "code",
   "execution_count": 173,
   "id": "1c9cf835",
   "metadata": {},
   "outputs": [],
   "source": [
    "def weighted_random_recommendation(items_weights, n=5):\n",
    "    \n",
    "    items = np.array(items_weights['item_id'])\n",
    "    recs = np.random.choice(items, size=n, replace=False, p=items_weights['weight'].tolist())\n",
    "    \n",
    "    return recs.tolist()"
   ]
  },
  {
   "cell_type": "code",
   "execution_count": 174,
   "id": "cebfbcbe",
   "metadata": {},
   "outputs": [
    {
     "name": "stdout",
     "output_type": "stream",
     "text": [
      "Wall time: 7 ms\n"
     ]
    },
    {
     "data": {
      "text/plain": [
       "[847207, 13909968, 13672316, 1064060, 989563]"
      ]
     },
     "execution_count": 174,
     "metadata": {},
     "output_type": "execute_result"
    }
   ],
   "source": [
    "%%time\n",
    "\n",
    "weighted_random_recommendation(items_weights, n=5)"
   ]
  },
  {
   "cell_type": "markdown",
   "id": "be5f9fe2",
   "metadata": {},
   "source": [
    "# Задание 2. Улучшение бейзлайнов и ItemItem"
   ]
  },
  {
   "cell_type": "markdown",
   "id": "62850ea5",
   "metadata": {},
   "source": [
    "Попробуйте улучшить бейзлайны, считая случаный на топ-5000 товаров"
   ]
  },
  {
   "cell_type": "code",
   "execution_count": 175,
   "id": "5a832b50",
   "metadata": {},
   "outputs": [
    {
     "data": {
      "text/html": [
       "<div>\n",
       "<style scoped>\n",
       "    .dataframe tbody tr th:only-of-type {\n",
       "        vertical-align: middle;\n",
       "    }\n",
       "\n",
       "    .dataframe tbody tr th {\n",
       "        vertical-align: top;\n",
       "    }\n",
       "\n",
       "    .dataframe thead th {\n",
       "        text-align: right;\n",
       "    }\n",
       "</style>\n",
       "<table border=\"1\" class=\"dataframe\">\n",
       "  <thead>\n",
       "    <tr style=\"text-align: right;\">\n",
       "      <th></th>\n",
       "      <th>user_id</th>\n",
       "      <th>uniq</th>\n",
       "    </tr>\n",
       "  </thead>\n",
       "  <tbody>\n",
       "    <tr>\n",
       "      <th>0</th>\n",
       "      <td>1</td>\n",
       "      <td>[825123, 831447, 840361, 845307, 852014, 85498...</td>\n",
       "    </tr>\n",
       "    <tr>\n",
       "      <th>1</th>\n",
       "      <td>2</td>\n",
       "      <td>[854852, 930118, 1077555, 1098066, 5567388, 55...</td>\n",
       "    </tr>\n",
       "    <tr>\n",
       "      <th>2</th>\n",
       "      <td>3</td>\n",
       "      <td>[866211, 878996, 882830, 904360, 921345, 93194...</td>\n",
       "    </tr>\n",
       "    <tr>\n",
       "      <th>3</th>\n",
       "      <td>4</td>\n",
       "      <td>[836163, 857849, 877523, 878909, 883932, 89142...</td>\n",
       "    </tr>\n",
       "    <tr>\n",
       "      <th>4</th>\n",
       "      <td>5</td>\n",
       "      <td>[938983, 5980822, 1012352, 825538, 1002499, 69...</td>\n",
       "    </tr>\n",
       "  </tbody>\n",
       "</table>\n",
       "</div>"
      ],
      "text/plain": [
       "   user_id                                               uniq\n",
       "0        1  [825123, 831447, 840361, 845307, 852014, 85498...\n",
       "1        2  [854852, 930118, 1077555, 1098066, 5567388, 55...\n",
       "2        3  [866211, 878996, 882830, 904360, 921345, 93194...\n",
       "3        4  [836163, 857849, 877523, 878909, 883932, 89142...\n",
       "4        5  [938983, 5980822, 1012352, 825538, 1002499, 69..."
      ]
     },
     "execution_count": 175,
     "metadata": {},
     "output_type": "execute_result"
    }
   ],
   "source": [
    "uniq = data_train.groupby('user_id')['item_id'].unique().reset_index()\n",
    "uniq.rename(columns={'item_id': 'uniq'}, inplace=True)\n",
    "\n",
    "uniq.head()"
   ]
  },
  {
   "cell_type": "code",
   "execution_count": 176,
   "id": "03473efc",
   "metadata": {},
   "outputs": [
    {
     "data": {
      "text/plain": [
       "0.0"
      ]
     },
     "execution_count": 176,
     "metadata": {},
     "output_type": "execute_result"
    }
   ],
   "source": [
    "items_weights_5000 = data.groupby('item_id')['sales_value'].sum().reset_index().rename(columns={'sales_value': 'weight'})\n",
    "items_weights_5000.sort_values('weight', ascending=False, inplace=True)\n",
    "items_weights_5000['weight'] = np.log(items_weights_5000['weight'].map(lambda x: 1 if x < 1 else x))\n",
    "items_weights_5000.loc[5000:, 'weights5000'] = 0\n",
    "items_weights_5000.loc[5000:, 'weights5000'] = 0\n",
    "items_weights_5000['weights5000'] /= items_weights_5000['weights5000'].sum()\n",
    "items_weights_5000['weights5000'].sum()"
   ]
  },
  {
   "cell_type": "code",
   "execution_count": 177,
   "id": "8c98afb2",
   "metadata": {},
   "outputs": [
    {
     "data": {
      "text/plain": [
       "1.0000000000000002"
      ]
     },
     "execution_count": 177,
     "metadata": {},
     "output_type": "execute_result"
    }
   ],
   "source": [
    "items_weights_5000 = data.groupby('item_id')['sales_value'].sum().reset_index().rename(columns={'sales_value': 'weight'})\n",
    "items_weights_5000.sort_values('weight', ascending=False, inplace=True)\n",
    "items_weights_5000.drop(items_weights_5000.tail(len(items_weights_5000.index) - 5000).index,inplace=True)\n",
    "items_weights_5000['weight'] = np.log(items_weights_5000['weight'].map(lambda x: 1 if x < 1 else x))\n",
    "items_weights_5000['weight'] /= items_weights_5000['weight'].sum()\n",
    "items_weights_5000['weight'].sum()"
   ]
  },
  {
   "cell_type": "code",
   "execution_count": 178,
   "id": "cbba04bd",
   "metadata": {},
   "outputs": [
    {
     "data": {
      "text/html": [
       "<div>\n",
       "<style scoped>\n",
       "    .dataframe tbody tr th:only-of-type {\n",
       "        vertical-align: middle;\n",
       "    }\n",
       "\n",
       "    .dataframe tbody tr th {\n",
       "        vertical-align: top;\n",
       "    }\n",
       "\n",
       "    .dataframe thead th {\n",
       "        text-align: right;\n",
       "    }\n",
       "</style>\n",
       "<table border=\"1\" class=\"dataframe\">\n",
       "  <thead>\n",
       "    <tr style=\"text-align: right;\">\n",
       "      <th></th>\n",
       "      <th>item_id</th>\n",
       "      <th>weight</th>\n",
       "    </tr>\n",
       "  </thead>\n",
       "  <tbody>\n",
       "    <tr>\n",
       "      <th>56233</th>\n",
       "      <td>6534178</td>\n",
       "      <td>0.000410</td>\n",
       "    </tr>\n",
       "    <tr>\n",
       "      <th>56193</th>\n",
       "      <td>6533889</td>\n",
       "      <td>0.000335</td>\n",
       "    </tr>\n",
       "    <tr>\n",
       "      <th>29195</th>\n",
       "      <td>1029743</td>\n",
       "      <td>0.000332</td>\n",
       "    </tr>\n",
       "    <tr>\n",
       "      <th>56228</th>\n",
       "      <td>6534166</td>\n",
       "      <td>0.000325</td>\n",
       "    </tr>\n",
       "    <tr>\n",
       "      <th>35054</th>\n",
       "      <td>1082185</td>\n",
       "      <td>0.000321</td>\n",
       "    </tr>\n",
       "  </tbody>\n",
       "</table>\n",
       "</div>"
      ],
      "text/plain": [
       "       item_id    weight\n",
       "56233  6534178  0.000410\n",
       "56193  6533889  0.000335\n",
       "29195  1029743  0.000332\n",
       "56228  6534166  0.000325\n",
       "35054  1082185  0.000321"
      ]
     },
     "execution_count": 178,
     "metadata": {},
     "output_type": "execute_result"
    }
   ],
   "source": [
    "items_weights_5000.head(5)"
   ]
  },
  {
   "cell_type": "code",
   "execution_count": 179,
   "id": "6cc0c74f",
   "metadata": {},
   "outputs": [
    {
     "data": {
      "text/plain": [
       "[941198, 12263024, 1053690, 916990, 962991]"
      ]
     },
     "execution_count": 179,
     "metadata": {},
     "output_type": "execute_result"
    }
   ],
   "source": [
    "weighted_random_recommendation(items_weights_5000, n=5)"
   ]
  },
  {
   "cell_type": "code",
   "execution_count": 180,
   "id": "92d71a02",
   "metadata": {},
   "outputs": [],
   "source": [
    "uniq['weight_recommendation'] = uniq['user_id'].apply(lambda x: weighted_random_recommendation(items_weights_5000, n=5))"
   ]
  },
  {
   "cell_type": "code",
   "execution_count": 181,
   "id": "045f945a",
   "metadata": {},
   "outputs": [
    {
     "data": {
      "text/html": [
       "<div>\n",
       "<style scoped>\n",
       "    .dataframe tbody tr th:only-of-type {\n",
       "        vertical-align: middle;\n",
       "    }\n",
       "\n",
       "    .dataframe tbody tr th {\n",
       "        vertical-align: top;\n",
       "    }\n",
       "\n",
       "    .dataframe thead th {\n",
       "        text-align: right;\n",
       "    }\n",
       "</style>\n",
       "<table border=\"1\" class=\"dataframe\">\n",
       "  <thead>\n",
       "    <tr style=\"text-align: right;\">\n",
       "      <th></th>\n",
       "      <th>user_id</th>\n",
       "      <th>uniq</th>\n",
       "      <th>weight_recommendation</th>\n",
       "    </tr>\n",
       "  </thead>\n",
       "  <tbody>\n",
       "    <tr>\n",
       "      <th>0</th>\n",
       "      <td>1</td>\n",
       "      <td>[825123, 831447, 840361, 845307, 852014, 85498...</td>\n",
       "      <td>[1131115, 1032512, 1139184, 9396750, 940947]</td>\n",
       "    </tr>\n",
       "    <tr>\n",
       "      <th>1</th>\n",
       "      <td>2</td>\n",
       "      <td>[854852, 930118, 1077555, 1098066, 5567388, 55...</td>\n",
       "      <td>[946788, 1089024, 1013321, 941797, 957164]</td>\n",
       "    </tr>\n",
       "    <tr>\n",
       "      <th>2</th>\n",
       "      <td>3</td>\n",
       "      <td>[866211, 878996, 882830, 904360, 921345, 93194...</td>\n",
       "      <td>[1101174, 1071594, 858999, 886370, 7139529]</td>\n",
       "    </tr>\n",
       "    <tr>\n",
       "      <th>3</th>\n",
       "      <td>4</td>\n",
       "      <td>[836163, 857849, 877523, 878909, 883932, 89142...</td>\n",
       "      <td>[926884, 1096667, 912860, 1089954, 1039589]</td>\n",
       "    </tr>\n",
       "    <tr>\n",
       "      <th>4</th>\n",
       "      <td>5</td>\n",
       "      <td>[938983, 5980822, 1012352, 825538, 1002499, 69...</td>\n",
       "      <td>[859877, 8090521, 1106116, 820165, 1051989]</td>\n",
       "    </tr>\n",
       "  </tbody>\n",
       "</table>\n",
       "</div>"
      ],
      "text/plain": [
       "   user_id                                               uniq  \\\n",
       "0        1  [825123, 831447, 840361, 845307, 852014, 85498...   \n",
       "1        2  [854852, 930118, 1077555, 1098066, 5567388, 55...   \n",
       "2        3  [866211, 878996, 882830, 904360, 921345, 93194...   \n",
       "3        4  [836163, 857849, 877523, 878909, 883932, 89142...   \n",
       "4        5  [938983, 5980822, 1012352, 825538, 1002499, 69...   \n",
       "\n",
       "                          weight_recommendation  \n",
       "0  [1131115, 1032512, 1139184, 9396750, 940947]  \n",
       "1    [946788, 1089024, 1013321, 941797, 957164]  \n",
       "2   [1101174, 1071594, 858999, 886370, 7139529]  \n",
       "3   [926884, 1096667, 912860, 1089954, 1039589]  \n",
       "4   [859877, 8090521, 1106116, 820165, 1051989]  "
      ]
     },
     "execution_count": 181,
     "metadata": {},
     "output_type": "execute_result"
    }
   ],
   "source": [
    "uniq.head()"
   ]
  },
  {
   "cell_type": "code",
   "execution_count": 182,
   "id": "7ce8075f",
   "metadata": {},
   "outputs": [],
   "source": [
    "def random_recommendation(items, n=5):\n",
    "    \"\"\"Случайные рекоммендации\"\"\"\n",
    "    \n",
    "    items = np.array(items)\n",
    "    recs = np.random.choice(items, size=n, replace=False)\n",
    "    \n",
    "    return recs.tolist()"
   ]
  },
  {
   "cell_type": "code",
   "execution_count": 183,
   "id": "419a6126",
   "metadata": {},
   "outputs": [],
   "source": [
    "def popularity_recommendation(data, n=5):\n",
    "    \"\"\"Топ-n популярных товаров\"\"\"\n",
    "    \n",
    "    popular = data.groupby('item_id')['sales_value'].sum().reset_index()\n",
    "    popular.sort_values('sales_value', ascending=False, inplace=True)\n",
    "    \n",
    "    recs = popular.head(n).item_id\n",
    "    \n",
    "    return recs.tolist()"
   ]
  },
  {
   "cell_type": "code",
   "execution_count": 184,
   "id": "5c8f4fb8",
   "metadata": {},
   "outputs": [],
   "source": [
    "items = data_train.item_id.unique()\n",
    "top_5000_items = items[:5000:]"
   ]
  },
  {
   "cell_type": "code",
   "execution_count": 185,
   "id": "d37bb80a",
   "metadata": {},
   "outputs": [],
   "source": [
    "uniq['random_recommendation'] = uniq['user_id'].apply(lambda x: random_recommendation(top_5000_items, n=5))"
   ]
  },
  {
   "cell_type": "code",
   "execution_count": 186,
   "id": "21e41148",
   "metadata": {},
   "outputs": [],
   "source": [
    "top_5000_popular = data.groupby('item_id')['sales_value'].sum().reset_index()\n",
    "top_5000_popular = top_5000_popular.sort_values('sales_value', ascending=False)\n",
    "top_5000_popular.drop(top_5000_popular.tail(len(top_5000_popular.index) - 5000).index,inplace=True)"
   ]
  },
  {
   "cell_type": "code",
   "execution_count": 187,
   "id": "25592819",
   "metadata": {},
   "outputs": [],
   "source": [
    "uniq['popular_recommendation'] = uniq['user_id'].apply(lambda x: popularity_recommendation(top_5000_popular, n=5))"
   ]
  },
  {
   "cell_type": "code",
   "execution_count": 188,
   "id": "bcfd6182",
   "metadata": {
    "scrolled": true
   },
   "outputs": [
    {
     "data": {
      "text/html": [
       "<div>\n",
       "<style scoped>\n",
       "    .dataframe tbody tr th:only-of-type {\n",
       "        vertical-align: middle;\n",
       "    }\n",
       "\n",
       "    .dataframe tbody tr th {\n",
       "        vertical-align: top;\n",
       "    }\n",
       "\n",
       "    .dataframe thead th {\n",
       "        text-align: right;\n",
       "    }\n",
       "</style>\n",
       "<table border=\"1\" class=\"dataframe\">\n",
       "  <thead>\n",
       "    <tr style=\"text-align: right;\">\n",
       "      <th></th>\n",
       "      <th>user_id</th>\n",
       "      <th>uniq</th>\n",
       "      <th>weight_recommendation</th>\n",
       "      <th>random_recommendation</th>\n",
       "      <th>popular_recommendation</th>\n",
       "    </tr>\n",
       "  </thead>\n",
       "  <tbody>\n",
       "    <tr>\n",
       "      <th>0</th>\n",
       "      <td>1</td>\n",
       "      <td>[825123, 831447, 840361, 845307, 852014, 85498...</td>\n",
       "      <td>[1131115, 1032512, 1139184, 9396750, 940947]</td>\n",
       "      <td>[7115539, 1082454, 829515, 1046465, 1083272]</td>\n",
       "      <td>[6534178, 6533889, 1029743, 6534166, 1082185]</td>\n",
       "    </tr>\n",
       "    <tr>\n",
       "      <th>1</th>\n",
       "      <td>2</td>\n",
       "      <td>[854852, 930118, 1077555, 1098066, 5567388, 55...</td>\n",
       "      <td>[946788, 1089024, 1013321, 941797, 957164]</td>\n",
       "      <td>[1115874, 959496, 6961492, 1048916, 7146027]</td>\n",
       "      <td>[6534178, 6533889, 1029743, 6534166, 1082185]</td>\n",
       "    </tr>\n",
       "  </tbody>\n",
       "</table>\n",
       "</div>"
      ],
      "text/plain": [
       "   user_id                                               uniq  \\\n",
       "0        1  [825123, 831447, 840361, 845307, 852014, 85498...   \n",
       "1        2  [854852, 930118, 1077555, 1098066, 5567388, 55...   \n",
       "\n",
       "                          weight_recommendation  \\\n",
       "0  [1131115, 1032512, 1139184, 9396750, 940947]   \n",
       "1    [946788, 1089024, 1013321, 941797, 957164]   \n",
       "\n",
       "                          random_recommendation  \\\n",
       "0  [7115539, 1082454, 829515, 1046465, 1083272]   \n",
       "1  [1115874, 959496, 6961492, 1048916, 7146027]   \n",
       "\n",
       "                          popular_recommendation  \n",
       "0  [6534178, 6533889, 1029743, 6534166, 1082185]  \n",
       "1  [6534178, 6533889, 1029743, 6534166, 1082185]  "
      ]
     },
     "execution_count": 188,
     "metadata": {},
     "output_type": "execute_result"
    }
   ],
   "source": [
    "uniq.head(2)"
   ]
  },
  {
   "cell_type": "code",
   "execution_count": 189,
   "id": "16fbc026",
   "metadata": {},
   "outputs": [],
   "source": [
    "def precision(recommended_list, bought_list):\n",
    "    \n",
    "    bought_list = np.array(bought_list)\n",
    "    recommended_list = np.array(recommended_list)\n",
    "    \n",
    "    flags = np.isin(bought_list, recommended_list)\n",
    "    return flags.sum() / len(recommended_list)\n",
    "\n",
    "def precision_at_k(recommended_list, bought_list, k=5):\n",
    "    return precision(recommended_list[:k], bought_list)"
   ]
  },
  {
   "cell_type": "code",
   "execution_count": 190,
   "id": "4fd38f6a",
   "metadata": {},
   "outputs": [
    {
     "name": "stdout",
     "output_type": "stream",
     "text": [
      "precision@K = 1.000 for uniq\n",
      "precision@K = 0.052 for weight_recommendation\n",
      "precision@K = 0.040 for random_recommendation\n",
      "precision@K = 0.393 for popular_recommendation\n"
     ]
    }
   ],
   "source": [
    "for name_col in uniq.columns[1:]:\n",
    "    print(f'precision@K = {uniq.apply(lambda row: precision_at_k(row[name_col], row.uniq, 5), axis=1).mean():.3f} for {name_col}')"
   ]
  },
  {
   "cell_type": "markdown",
   "id": "4dfbaee5",
   "metadata": {},
   "source": [
    "Попробуйте улучшить разные варианты ItemItemRecommender, выбирая число соседей  𝐾 ."
   ]
  },
  {
   "cell_type": "code",
   "execution_count": 191,
   "id": "61c7a888",
   "metadata": {},
   "outputs": [
    {
     "data": {
      "text/html": [
       "<div>\n",
       "<style scoped>\n",
       "    .dataframe tbody tr th:only-of-type {\n",
       "        vertical-align: middle;\n",
       "    }\n",
       "\n",
       "    .dataframe tbody tr th {\n",
       "        vertical-align: top;\n",
       "    }\n",
       "\n",
       "    .dataframe thead th {\n",
       "        text-align: right;\n",
       "    }\n",
       "</style>\n",
       "<table border=\"1\" class=\"dataframe\">\n",
       "  <thead>\n",
       "    <tr style=\"text-align: right;\">\n",
       "      <th></th>\n",
       "      <th>item_id</th>\n",
       "      <th>n_sold</th>\n",
       "    </tr>\n",
       "  </thead>\n",
       "  <tbody>\n",
       "    <tr>\n",
       "      <th>0</th>\n",
       "      <td>25671</td>\n",
       "      <td>6</td>\n",
       "    </tr>\n",
       "    <tr>\n",
       "      <th>1</th>\n",
       "      <td>26081</td>\n",
       "      <td>1</td>\n",
       "    </tr>\n",
       "    <tr>\n",
       "      <th>2</th>\n",
       "      <td>26093</td>\n",
       "      <td>1</td>\n",
       "    </tr>\n",
       "    <tr>\n",
       "      <th>3</th>\n",
       "      <td>26190</td>\n",
       "      <td>1</td>\n",
       "    </tr>\n",
       "    <tr>\n",
       "      <th>4</th>\n",
       "      <td>26355</td>\n",
       "      <td>2</td>\n",
       "    </tr>\n",
       "  </tbody>\n",
       "</table>\n",
       "</div>"
      ],
      "text/plain": [
       "   item_id  n_sold\n",
       "0    25671       6\n",
       "1    26081       1\n",
       "2    26093       1\n",
       "3    26190       1\n",
       "4    26355       2"
      ]
     },
     "execution_count": 191,
     "metadata": {},
     "output_type": "execute_result"
    }
   ],
   "source": [
    "popularity = data_train.groupby('item_id')['quantity'].sum().reset_index()\n",
    "popularity.rename(columns={'quantity': 'n_sold'}, inplace=True)\n",
    "\n",
    "popularity.head()"
   ]
  },
  {
   "cell_type": "code",
   "execution_count": 192,
   "id": "4b0de99d",
   "metadata": {},
   "outputs": [],
   "source": [
    "top_5000 = popularity.sort_values('n_sold', ascending=False).head(5000).item_id.tolist()"
   ]
  },
  {
   "cell_type": "code",
   "execution_count": 193,
   "id": "df032dbb",
   "metadata": {},
   "outputs": [
    {
     "name": "stderr",
     "output_type": "stream",
     "text": [
      "G:\\Anaconda\\lib\\site-packages\\pandas\\core\\indexing.py:1720: SettingWithCopyWarning: \n",
      "A value is trying to be set on a copy of a slice from a DataFrame.\n",
      "Try using .loc[row_indexer,col_indexer] = value instead\n",
      "\n",
      "See the caveats in the documentation: https://pandas.pydata.org/pandas-docs/stable/user_guide/indexing.html#returning-a-view-versus-a-copy\n",
      "  self._setitem_single_column(loc, value, pi)\n"
     ]
    }
   ],
   "source": [
    "# Заведем фиктивный item_id (если юзер покупал товары из топ-5000, то он \"купил\" такой товар)\n",
    "data_train.loc[ ~ data_train['item_id'].isin(top_5000), 'item_id'] = 6666"
   ]
  },
  {
   "cell_type": "code",
   "execution_count": 194,
   "id": "d502195b",
   "metadata": {},
   "outputs": [],
   "source": [
    "user_item_matrix = pd.pivot_table(data_train, \n",
    "                                  index='user_id', columns='item_id', \n",
    "                                  values='quantity',\n",
    "                                  aggfunc='count', \n",
    "                                  fill_value=0\n",
    "                                 )\n",
    "\n",
    "user_item_matrix[user_item_matrix > 0] = 1 # так как в итоге хотим предсказать \n",
    "\n",
    "user_item_matrix = user_item_matrix.astype(float) # необходимый тип матрицы для implicit\n",
    "\n",
    "# переведем в формат sparse matrix\n",
    "sparse_user_item = csr_matrix(user_item_matrix)\n"
   ]
  },
  {
   "cell_type": "code",
   "execution_count": 195,
   "id": "51ddfa83",
   "metadata": {},
   "outputs": [],
   "source": [
    "# создаем словари мапинга между id бизнеса к строчному id матрицы\n",
    "\n",
    "userids = user_item_matrix.index.values\n",
    "itemids = user_item_matrix.columns.values\n",
    "\n",
    "matrix_userids = np.arange(len(userids))\n",
    "matrix_itemids = np.arange(len(itemids))\n",
    "\n",
    "id_to_itemid = dict(zip(matrix_itemids, itemids))\n",
    "id_to_userid = dict(zip(matrix_userids, userids))\n",
    "\n",
    "itemid_to_id = dict(zip(itemids, matrix_itemids))\n",
    "userid_to_id = dict(zip(userids, matrix_userids))"
   ]
  },
  {
   "cell_type": "markdown",
   "id": "7ef3e0d9",
   "metadata": {},
   "source": [
    "# k1"
   ]
  },
  {
   "cell_type": "code",
   "execution_count": 196,
   "id": "2e8a1eae",
   "metadata": {},
   "outputs": [
    {
     "data": {
      "application/vnd.jupyter.widget-view+json": {
       "model_id": "3444c5fd6c514bb1bfc8268f95921f7f",
       "version_major": 2,
       "version_minor": 0
      },
      "text/plain": [
       "  0%|          | 0/5001 [00:00<?, ?it/s]"
      ]
     },
     "metadata": {},
     "output_type": "display_data"
    },
    {
     "name": "stdout",
     "output_type": "stream",
     "text": [
      "Wall time: 843 ms\n"
     ]
    }
   ],
   "source": [
    "%%time\n",
    "\n",
    "model = ItemItemRecommender(K=1, num_threads=4) # K - кол-во билжайших соседей\n",
    "\n",
    "model.fit(csr_matrix(user_item_matrix).T.tocsr(),  # На вход item-user matrix\n",
    "          show_progress=True)\n",
    "\n",
    "recs = model.recommend(userid=userid_to_id[2],  # userid - id от 0 до N\n",
    "                        user_items=csr_matrix(user_item_matrix).tocsr(),   # на вход user-item matrix\n",
    "                        N=5, # кол-во рекомендаций \n",
    "                        filter_already_liked_items=False, \n",
    "                        filter_items=None, \n",
    "                        recalculate_user=True)"
   ]
  },
  {
   "cell_type": "code",
   "execution_count": 197,
   "id": "71a8c645",
   "metadata": {},
   "outputs": [
    {
     "name": "stdout",
     "output_type": "stream",
     "text": [
      "Wall time: 40 ms\n"
     ]
    }
   ],
   "source": [
    "%%time\n",
    "\n",
    "uniq['itemitem_k1'] = uniq['user_id'].apply(lambda user_id: [id_to_itemid[rec[0]]  \n",
    "                                                              for rec in model.recommend(userid=userid_to_id[user_id], \n",
    "                                                                user_items=sparse_user_item,   # на вход user-item matrix\n",
    "                                                                N=5, \n",
    "                                                                filter_already_liked_items=False, \n",
    "                                                                filter_items=None, \n",
    "                                                                recalculate_user=True)\n",
    "                                                                             ])"
   ]
  },
  {
   "cell_type": "markdown",
   "id": "c02764f5",
   "metadata": {},
   "source": [
    "# k3"
   ]
  },
  {
   "cell_type": "code",
   "execution_count": 198,
   "id": "633ddfb1",
   "metadata": {},
   "outputs": [
    {
     "data": {
      "application/vnd.jupyter.widget-view+json": {
       "model_id": "9ac9a785e8684c769590bbe61528f1ad",
       "version_major": 2,
       "version_minor": 0
      },
      "text/plain": [
       "  0%|          | 0/5001 [00:00<?, ?it/s]"
      ]
     },
     "metadata": {},
     "output_type": "display_data"
    },
    {
     "name": "stdout",
     "output_type": "stream",
     "text": [
      "Wall time: 835 ms\n"
     ]
    }
   ],
   "source": [
    "%%time\n",
    "\n",
    "model = ItemItemRecommender(K=3, num_threads=4) # K - кол-во билжайших соседей\n",
    "\n",
    "model.fit(csr_matrix(user_item_matrix).T.tocsr(),  # На вход item-user matrix\n",
    "          show_progress=True)\n",
    "\n",
    "recs = model.recommend(userid=userid_to_id[2],  # userid - id от 0 до N\n",
    "                        user_items=csr_matrix(user_item_matrix).tocsr(),   # на вход user-item matrix\n",
    "                        N=5, # кол-во рекомендаций \n",
    "                        filter_already_liked_items=False, \n",
    "                        filter_items=None, \n",
    "                        recalculate_user=True)"
   ]
  },
  {
   "cell_type": "code",
   "execution_count": 199,
   "id": "76cf3297",
   "metadata": {},
   "outputs": [
    {
     "name": "stdout",
     "output_type": "stream",
     "text": [
      "Wall time: 44 ms\n"
     ]
    }
   ],
   "source": [
    "%%time\n",
    "\n",
    "uniq['itemitem_k3'] = uniq['user_id'].apply(lambda user_id: [id_to_itemid[rec[0]]  \n",
    "                                                              for rec in model.recommend(userid=userid_to_id[user_id], \n",
    "                                                                user_items=sparse_user_item,   # на вход user-item matrix\n",
    "                                                                N=5, \n",
    "                                                                filter_already_liked_items=False, \n",
    "                                                                filter_items=None, \n",
    "                                                                recalculate_user=True)\n",
    "                                                                             ])"
   ]
  },
  {
   "cell_type": "markdown",
   "id": "df014610",
   "metadata": {},
   "source": [
    "# k5 and without 6666"
   ]
  },
  {
   "cell_type": "code",
   "execution_count": 200,
   "id": "c53e1f6d",
   "metadata": {},
   "outputs": [
    {
     "name": "stdout",
     "output_type": "stream",
     "text": [
      "Wall time: 54 ms\n"
     ]
    }
   ],
   "source": [
    "%%time\n",
    "\n",
    "uniq['itemitem_k3_w'] = uniq['user_id'].apply(lambda user_id: [id_to_itemid[rec[0]]  \n",
    "                                                              for rec in model.recommend(userid=userid_to_id[user_id], \n",
    "                                                                user_items=sparse_user_item,   # на вход user-item matrix\n",
    "                                                                N=5, \n",
    "                                                                filter_already_liked_items=False, \n",
    "                                                                filter_items=[itemid_to_id[6666]], \n",
    "                                                                recalculate_user=True)\n",
    "                                                                             ])"
   ]
  },
  {
   "cell_type": "markdown",
   "id": "418d14d5",
   "metadata": {},
   "source": [
    "# k5"
   ]
  },
  {
   "cell_type": "code",
   "execution_count": 201,
   "id": "772150b3",
   "metadata": {},
   "outputs": [
    {
     "data": {
      "application/vnd.jupyter.widget-view+json": {
       "model_id": "5460940539b543b792413a1f5dbc6583",
       "version_major": 2,
       "version_minor": 0
      },
      "text/plain": [
       "  0%|          | 0/5001 [00:00<?, ?it/s]"
      ]
     },
     "metadata": {},
     "output_type": "display_data"
    },
    {
     "name": "stdout",
     "output_type": "stream",
     "text": [
      "Wall time: 866 ms\n"
     ]
    }
   ],
   "source": [
    "%%time\n",
    "\n",
    "model = ItemItemRecommender(K=5, num_threads=4) # K - кол-во билжайших соседей\n",
    "\n",
    "model.fit(csr_matrix(user_item_matrix).T.tocsr(),  # На вход item-user matrix\n",
    "          show_progress=True)\n",
    "\n",
    "recs = model.recommend(userid=userid_to_id[2],  # userid - id от 0 до N\n",
    "                        user_items=csr_matrix(user_item_matrix).tocsr(),   # на вход user-item matrix\n",
    "                        N=5, # кол-во рекомендаций \n",
    "                        filter_already_liked_items=False, \n",
    "                        filter_items=None, \n",
    "                        recalculate_user=True)"
   ]
  },
  {
   "cell_type": "code",
   "execution_count": 202,
   "id": "87db91d7",
   "metadata": {},
   "outputs": [
    {
     "name": "stdout",
     "output_type": "stream",
     "text": [
      "Wall time: 53 ms\n"
     ]
    }
   ],
   "source": [
    "%%time\n",
    "\n",
    "uniq['itemitem_k5'] = uniq['user_id'].apply(lambda user_id: [id_to_itemid[rec[0]]  \n",
    "                                                              for rec in model.recommend(userid=userid_to_id[user_id], \n",
    "                                                                user_items=sparse_user_item,   # на вход user-item matrix\n",
    "                                                                N=5, \n",
    "                                                                filter_already_liked_items=False, \n",
    "                                                                filter_items=None, \n",
    "                                                                recalculate_user=True)\n",
    "                                                                             ])"
   ]
  },
  {
   "cell_type": "markdown",
   "id": "55a5ecaa",
   "metadata": {},
   "source": [
    "# k5 and without 6666"
   ]
  },
  {
   "cell_type": "code",
   "execution_count": 203,
   "id": "f3d68852",
   "metadata": {},
   "outputs": [
    {
     "name": "stdout",
     "output_type": "stream",
     "text": [
      "Wall time: 65 ms\n"
     ]
    }
   ],
   "source": [
    "%%time\n",
    "\n",
    "uniq['itemitem_k5_w'] = uniq['user_id'].apply(lambda user_id: [id_to_itemid[rec[0]]  \n",
    "                                                              for rec in model.recommend(userid=userid_to_id[user_id], \n",
    "                                                                user_items=sparse_user_item,   # на вход user-item matrix\n",
    "                                                                N=5, \n",
    "                                                                filter_already_liked_items=False, \n",
    "                                                                filter_items=[itemid_to_id[6666]], \n",
    "                                                                recalculate_user=True)\n",
    "                                                                             ])"
   ]
  },
  {
   "cell_type": "code",
   "execution_count": 204,
   "id": "0a6da08c",
   "metadata": {},
   "outputs": [
    {
     "data": {
      "text/html": [
       "<div>\n",
       "<style scoped>\n",
       "    .dataframe tbody tr th:only-of-type {\n",
       "        vertical-align: middle;\n",
       "    }\n",
       "\n",
       "    .dataframe tbody tr th {\n",
       "        vertical-align: top;\n",
       "    }\n",
       "\n",
       "    .dataframe thead th {\n",
       "        text-align: right;\n",
       "    }\n",
       "</style>\n",
       "<table border=\"1\" class=\"dataframe\">\n",
       "  <thead>\n",
       "    <tr style=\"text-align: right;\">\n",
       "      <th></th>\n",
       "      <th>user_id</th>\n",
       "      <th>uniq</th>\n",
       "      <th>weight_recommendation</th>\n",
       "      <th>random_recommendation</th>\n",
       "      <th>popular_recommendation</th>\n",
       "      <th>itemitem_k1</th>\n",
       "      <th>itemitem_k3</th>\n",
       "      <th>itemitem_k3_w</th>\n",
       "      <th>itemitem_k5</th>\n",
       "      <th>itemitem_k5_w</th>\n",
       "    </tr>\n",
       "  </thead>\n",
       "  <tbody>\n",
       "    <tr>\n",
       "      <th>0</th>\n",
       "      <td>1</td>\n",
       "      <td>[825123, 831447, 840361, 845307, 852014, 85498...</td>\n",
       "      <td>[1131115, 1032512, 1139184, 9396750, 940947]</td>\n",
       "      <td>[7115539, 1082454, 829515, 1046465, 1083272]</td>\n",
       "      <td>[6534178, 6533889, 1029743, 6534166, 1082185]</td>\n",
       "      <td>[6666, 1082185, 995242, 1029743, 840361]</td>\n",
       "      <td>[6666, 1082185, 981760, 995242, 1029743]</td>\n",
       "      <td>[1082185, 981760, 995242, 1029743, 840361]</td>\n",
       "      <td>[6666, 1082185, 981760, 1127831, 995242]</td>\n",
       "      <td>[1082185, 981760, 1127831, 995242, 1098066]</td>\n",
       "    </tr>\n",
       "    <tr>\n",
       "      <th>1</th>\n",
       "      <td>2</td>\n",
       "      <td>[854852, 930118, 1077555, 1098066, 5567388, 55...</td>\n",
       "      <td>[946788, 1089024, 1013321, 941797, 957164]</td>\n",
       "      <td>[1115874, 959496, 6961492, 1048916, 7146027]</td>\n",
       "      <td>[6534178, 6533889, 1029743, 6534166, 1082185]</td>\n",
       "      <td>[6666, 1082185, 840361, 1098066, 826249]</td>\n",
       "      <td>[6666, 1082185, 981760, 840361, 1098066]</td>\n",
       "      <td>[1082185, 981760, 840361, 1098066, 826249]</td>\n",
       "      <td>[6666, 1082185, 981760, 1127831, 1098066]</td>\n",
       "      <td>[1082185, 981760, 1127831, 1098066, 995242]</td>\n",
       "    </tr>\n",
       "    <tr>\n",
       "      <th>2</th>\n",
       "      <td>3</td>\n",
       "      <td>[866211, 878996, 882830, 904360, 921345, 93194...</td>\n",
       "      <td>[1101174, 1071594, 858999, 886370, 7139529]</td>\n",
       "      <td>[899184, 949620, 1095538, 873130, 823475]</td>\n",
       "      <td>[6534178, 6533889, 1029743, 6534166, 1082185]</td>\n",
       "      <td>[6666, 1082185, 1098066, 6534178, 826249]</td>\n",
       "      <td>[6666, 1082185, 981760, 1098066, 6534178]</td>\n",
       "      <td>[1082185, 981760, 1098066, 6534178, 826249]</td>\n",
       "      <td>[6666, 1082185, 981760, 1098066, 995242]</td>\n",
       "      <td>[1082185, 981760, 1098066, 995242, 826249]</td>\n",
       "    </tr>\n",
       "    <tr>\n",
       "      <th>3</th>\n",
       "      <td>4</td>\n",
       "      <td>[836163, 857849, 877523, 878909, 883932, 89142...</td>\n",
       "      <td>[926884, 1096667, 912860, 1089954, 1039589]</td>\n",
       "      <td>[1133378, 1056065, 9395106, 947287, 1057315]</td>\n",
       "      <td>[6534178, 6533889, 1029743, 6534166, 1082185]</td>\n",
       "      <td>[6666, 1029743, 840361, 883404, 1044078]</td>\n",
       "      <td>[6666, 1082185, 981760, 1029743, 840361]</td>\n",
       "      <td>[1082185, 981760, 1029743, 840361, 883404]</td>\n",
       "      <td>[6666, 1082185, 981760, 1098066, 995242]</td>\n",
       "      <td>[1082185, 981760, 1098066, 995242, 826249]</td>\n",
       "    </tr>\n",
       "    <tr>\n",
       "      <th>4</th>\n",
       "      <td>5</td>\n",
       "      <td>[938983, 5980822, 1012352, 825538, 1002499, 69...</td>\n",
       "      <td>[859877, 8090521, 1106116, 820165, 1051989]</td>\n",
       "      <td>[859010, 1039566, 9677656, 7168978, 895138]</td>\n",
       "      <td>[6534178, 6533889, 1029743, 6534166, 1082185]</td>\n",
       "      <td>[6666, 1029743, 961554, 916122, 859075]</td>\n",
       "      <td>[6666, 1082185, 981760, 1029743, 961554]</td>\n",
       "      <td>[1082185, 981760, 1029743, 961554, 916122]</td>\n",
       "      <td>[6666, 1082185, 981760, 995242, 1098066]</td>\n",
       "      <td>[1082185, 981760, 995242, 1098066, 1029743]</td>\n",
       "    </tr>\n",
       "  </tbody>\n",
       "</table>\n",
       "</div>"
      ],
      "text/plain": [
       "   user_id                                               uniq  \\\n",
       "0        1  [825123, 831447, 840361, 845307, 852014, 85498...   \n",
       "1        2  [854852, 930118, 1077555, 1098066, 5567388, 55...   \n",
       "2        3  [866211, 878996, 882830, 904360, 921345, 93194...   \n",
       "3        4  [836163, 857849, 877523, 878909, 883932, 89142...   \n",
       "4        5  [938983, 5980822, 1012352, 825538, 1002499, 69...   \n",
       "\n",
       "                          weight_recommendation  \\\n",
       "0  [1131115, 1032512, 1139184, 9396750, 940947]   \n",
       "1    [946788, 1089024, 1013321, 941797, 957164]   \n",
       "2   [1101174, 1071594, 858999, 886370, 7139529]   \n",
       "3   [926884, 1096667, 912860, 1089954, 1039589]   \n",
       "4   [859877, 8090521, 1106116, 820165, 1051989]   \n",
       "\n",
       "                          random_recommendation  \\\n",
       "0  [7115539, 1082454, 829515, 1046465, 1083272]   \n",
       "1  [1115874, 959496, 6961492, 1048916, 7146027]   \n",
       "2     [899184, 949620, 1095538, 873130, 823475]   \n",
       "3  [1133378, 1056065, 9395106, 947287, 1057315]   \n",
       "4   [859010, 1039566, 9677656, 7168978, 895138]   \n",
       "\n",
       "                          popular_recommendation  \\\n",
       "0  [6534178, 6533889, 1029743, 6534166, 1082185]   \n",
       "1  [6534178, 6533889, 1029743, 6534166, 1082185]   \n",
       "2  [6534178, 6533889, 1029743, 6534166, 1082185]   \n",
       "3  [6534178, 6533889, 1029743, 6534166, 1082185]   \n",
       "4  [6534178, 6533889, 1029743, 6534166, 1082185]   \n",
       "\n",
       "                                 itemitem_k1  \\\n",
       "0   [6666, 1082185, 995242, 1029743, 840361]   \n",
       "1   [6666, 1082185, 840361, 1098066, 826249]   \n",
       "2  [6666, 1082185, 1098066, 6534178, 826249]   \n",
       "3   [6666, 1029743, 840361, 883404, 1044078]   \n",
       "4    [6666, 1029743, 961554, 916122, 859075]   \n",
       "\n",
       "                                 itemitem_k3  \\\n",
       "0   [6666, 1082185, 981760, 995242, 1029743]   \n",
       "1   [6666, 1082185, 981760, 840361, 1098066]   \n",
       "2  [6666, 1082185, 981760, 1098066, 6534178]   \n",
       "3   [6666, 1082185, 981760, 1029743, 840361]   \n",
       "4   [6666, 1082185, 981760, 1029743, 961554]   \n",
       "\n",
       "                                 itemitem_k3_w  \\\n",
       "0   [1082185, 981760, 995242, 1029743, 840361]   \n",
       "1   [1082185, 981760, 840361, 1098066, 826249]   \n",
       "2  [1082185, 981760, 1098066, 6534178, 826249]   \n",
       "3   [1082185, 981760, 1029743, 840361, 883404]   \n",
       "4   [1082185, 981760, 1029743, 961554, 916122]   \n",
       "\n",
       "                                 itemitem_k5  \\\n",
       "0   [6666, 1082185, 981760, 1127831, 995242]   \n",
       "1  [6666, 1082185, 981760, 1127831, 1098066]   \n",
       "2   [6666, 1082185, 981760, 1098066, 995242]   \n",
       "3   [6666, 1082185, 981760, 1098066, 995242]   \n",
       "4   [6666, 1082185, 981760, 995242, 1098066]   \n",
       "\n",
       "                                 itemitem_k5_w  \n",
       "0  [1082185, 981760, 1127831, 995242, 1098066]  \n",
       "1  [1082185, 981760, 1127831, 1098066, 995242]  \n",
       "2   [1082185, 981760, 1098066, 995242, 826249]  \n",
       "3   [1082185, 981760, 1098066, 995242, 826249]  \n",
       "4  [1082185, 981760, 995242, 1098066, 1029743]  "
      ]
     },
     "execution_count": 204,
     "metadata": {},
     "output_type": "execute_result"
    }
   ],
   "source": [
    "uniq.head(5)"
   ]
  },
  {
   "cell_type": "code",
   "execution_count": 205,
   "id": "40ba3eb5",
   "metadata": {},
   "outputs": [
    {
     "name": "stdout",
     "output_type": "stream",
     "text": [
      "precision@K = 1.000 for uniq\n",
      "precision@K = 0.052 for weight_recommendation\n",
      "precision@K = 0.040 for random_recommendation\n",
      "precision@K = 0.393 for popular_recommendation\n",
      "precision@K = 0.795 for itemitem_k1\n",
      "precision@K = 0.683 for itemitem_k3\n",
      "precision@K = 0.882 for itemitem_k3_w\n",
      "precision@K = 0.544 for itemitem_k5\n",
      "precision@K = 0.647 for itemitem_k5_w\n"
     ]
    }
   ],
   "source": [
    "for name_col in uniq.columns[1:]:\n",
    "    print(f'precision@K = {uniq.apply(lambda row: precision_at_k(row[name_col], row.uniq, 5), axis=1).mean():.3f} for {name_col}')"
   ]
  },
  {
   "cell_type": "code",
   "execution_count": null,
   "id": "7aa82a3d",
   "metadata": {},
   "outputs": [],
   "source": []
  },
  {
   "cell_type": "code",
   "execution_count": null,
   "id": "62741d9e",
   "metadata": {},
   "outputs": [],
   "source": []
  }
 ],
 "metadata": {
  "kernelspec": {
   "display_name": "Python 3",
   "language": "python",
   "name": "python3"
  },
  "language_info": {
   "codemirror_mode": {
    "name": "ipython",
    "version": 3
   },
   "file_extension": ".py",
   "mimetype": "text/x-python",
   "name": "python",
   "nbconvert_exporter": "python",
   "pygments_lexer": "ipython3",
   "version": "3.8.8"
  }
 },
 "nbformat": 4,
 "nbformat_minor": 5
}
